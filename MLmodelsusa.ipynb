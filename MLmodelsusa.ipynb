{
  "cells": [
    {
      "cell_type": "markdown",
      "metadata": {
        "id": "6so5Y1WdAkaD"
      },
      "source": [
        "# preprocessing"
      ]
    },
    {
      "cell_type": "code",
      "execution_count": null,
      "metadata": {
        "id": "3PG9KHi9AGMv"
      },
      "outputs": [],
      "source": [
        "import numpy as np\n",
        "import pandas as pd\n",
        "import matplotlib.pyplot as plt\n",
        "import seaborn as sns\n",
        "import scipy.stats as stats\n",
        "import random\n",
        "np.random.seed(42)\n",
        "random.seed(42)\n",
        "import statsmodels.api as sm\n",
        "from scipy.stats import ttest_ind"
      ]
    },
    {
      "cell_type": "code",
      "execution_count": null,
      "metadata": {
        "colab": {
          "base_uri": "https://localhost:8080/",
          "height": 73
        },
        "id": "N_nCVj2cPht8",
        "outputId": "1957d960-ecf4-4d92-c89c-d672b3f3a57e"
      },
      "outputs": [
        {
          "output_type": "display_data",
          "data": {
            "text/plain": [
              "<IPython.core.display.HTML object>"
            ],
            "text/html": [
              "\n",
              "     <input type=\"file\" id=\"files-60a4a1cb-1586-48e0-8449-4eb887261009\" name=\"files[]\" multiple disabled\n",
              "        style=\"border:none\" />\n",
              "     <output id=\"result-60a4a1cb-1586-48e0-8449-4eb887261009\">\n",
              "      Upload widget is only available when the cell has been executed in the\n",
              "      current browser session. Please rerun this cell to enable.\n",
              "      </output>\n",
              "      <script>// Copyright 2017 Google LLC\n",
              "//\n",
              "// Licensed under the Apache License, Version 2.0 (the \"License\");\n",
              "// you may not use this file except in compliance with the License.\n",
              "// You may obtain a copy of the License at\n",
              "//\n",
              "//      http://www.apache.org/licenses/LICENSE-2.0\n",
              "//\n",
              "// Unless required by applicable law or agreed to in writing, software\n",
              "// distributed under the License is distributed on an \"AS IS\" BASIS,\n",
              "// WITHOUT WARRANTIES OR CONDITIONS OF ANY KIND, either express or implied.\n",
              "// See the License for the specific language governing permissions and\n",
              "// limitations under the License.\n",
              "\n",
              "/**\n",
              " * @fileoverview Helpers for google.colab Python module.\n",
              " */\n",
              "(function(scope) {\n",
              "function span(text, styleAttributes = {}) {\n",
              "  const element = document.createElement('span');\n",
              "  element.textContent = text;\n",
              "  for (const key of Object.keys(styleAttributes)) {\n",
              "    element.style[key] = styleAttributes[key];\n",
              "  }\n",
              "  return element;\n",
              "}\n",
              "\n",
              "// Max number of bytes which will be uploaded at a time.\n",
              "const MAX_PAYLOAD_SIZE = 100 * 1024;\n",
              "\n",
              "function _uploadFiles(inputId, outputId) {\n",
              "  const steps = uploadFilesStep(inputId, outputId);\n",
              "  const outputElement = document.getElementById(outputId);\n",
              "  // Cache steps on the outputElement to make it available for the next call\n",
              "  // to uploadFilesContinue from Python.\n",
              "  outputElement.steps = steps;\n",
              "\n",
              "  return _uploadFilesContinue(outputId);\n",
              "}\n",
              "\n",
              "// This is roughly an async generator (not supported in the browser yet),\n",
              "// where there are multiple asynchronous steps and the Python side is going\n",
              "// to poll for completion of each step.\n",
              "// This uses a Promise to block the python side on completion of each step,\n",
              "// then passes the result of the previous step as the input to the next step.\n",
              "function _uploadFilesContinue(outputId) {\n",
              "  const outputElement = document.getElementById(outputId);\n",
              "  const steps = outputElement.steps;\n",
              "\n",
              "  const next = steps.next(outputElement.lastPromiseValue);\n",
              "  return Promise.resolve(next.value.promise).then((value) => {\n",
              "    // Cache the last promise value to make it available to the next\n",
              "    // step of the generator.\n",
              "    outputElement.lastPromiseValue = value;\n",
              "    return next.value.response;\n",
              "  });\n",
              "}\n",
              "\n",
              "/**\n",
              " * Generator function which is called between each async step of the upload\n",
              " * process.\n",
              " * @param {string} inputId Element ID of the input file picker element.\n",
              " * @param {string} outputId Element ID of the output display.\n",
              " * @return {!Iterable<!Object>} Iterable of next steps.\n",
              " */\n",
              "function* uploadFilesStep(inputId, outputId) {\n",
              "  const inputElement = document.getElementById(inputId);\n",
              "  inputElement.disabled = false;\n",
              "\n",
              "  const outputElement = document.getElementById(outputId);\n",
              "  outputElement.innerHTML = '';\n",
              "\n",
              "  const pickedPromise = new Promise((resolve) => {\n",
              "    inputElement.addEventListener('change', (e) => {\n",
              "      resolve(e.target.files);\n",
              "    });\n",
              "  });\n",
              "\n",
              "  const cancel = document.createElement('button');\n",
              "  inputElement.parentElement.appendChild(cancel);\n",
              "  cancel.textContent = 'Cancel upload';\n",
              "  const cancelPromise = new Promise((resolve) => {\n",
              "    cancel.onclick = () => {\n",
              "      resolve(null);\n",
              "    };\n",
              "  });\n",
              "\n",
              "  // Wait for the user to pick the files.\n",
              "  const files = yield {\n",
              "    promise: Promise.race([pickedPromise, cancelPromise]),\n",
              "    response: {\n",
              "      action: 'starting',\n",
              "    }\n",
              "  };\n",
              "\n",
              "  cancel.remove();\n",
              "\n",
              "  // Disable the input element since further picks are not allowed.\n",
              "  inputElement.disabled = true;\n",
              "\n",
              "  if (!files) {\n",
              "    return {\n",
              "      response: {\n",
              "        action: 'complete',\n",
              "      }\n",
              "    };\n",
              "  }\n",
              "\n",
              "  for (const file of files) {\n",
              "    const li = document.createElement('li');\n",
              "    li.append(span(file.name, {fontWeight: 'bold'}));\n",
              "    li.append(span(\n",
              "        `(${file.type || 'n/a'}) - ${file.size} bytes, ` +\n",
              "        `last modified: ${\n",
              "            file.lastModifiedDate ? file.lastModifiedDate.toLocaleDateString() :\n",
              "                                    'n/a'} - `));\n",
              "    const percent = span('0% done');\n",
              "    li.appendChild(percent);\n",
              "\n",
              "    outputElement.appendChild(li);\n",
              "\n",
              "    const fileDataPromise = new Promise((resolve) => {\n",
              "      const reader = new FileReader();\n",
              "      reader.onload = (e) => {\n",
              "        resolve(e.target.result);\n",
              "      };\n",
              "      reader.readAsArrayBuffer(file);\n",
              "    });\n",
              "    // Wait for the data to be ready.\n",
              "    let fileData = yield {\n",
              "      promise: fileDataPromise,\n",
              "      response: {\n",
              "        action: 'continue',\n",
              "      }\n",
              "    };\n",
              "\n",
              "    // Use a chunked sending to avoid message size limits. See b/62115660.\n",
              "    let position = 0;\n",
              "    do {\n",
              "      const length = Math.min(fileData.byteLength - position, MAX_PAYLOAD_SIZE);\n",
              "      const chunk = new Uint8Array(fileData, position, length);\n",
              "      position += length;\n",
              "\n",
              "      const base64 = btoa(String.fromCharCode.apply(null, chunk));\n",
              "      yield {\n",
              "        response: {\n",
              "          action: 'append',\n",
              "          file: file.name,\n",
              "          data: base64,\n",
              "        },\n",
              "      };\n",
              "\n",
              "      let percentDone = fileData.byteLength === 0 ?\n",
              "          100 :\n",
              "          Math.round((position / fileData.byteLength) * 100);\n",
              "      percent.textContent = `${percentDone}% done`;\n",
              "\n",
              "    } while (position < fileData.byteLength);\n",
              "  }\n",
              "\n",
              "  // All done.\n",
              "  yield {\n",
              "    response: {\n",
              "      action: 'complete',\n",
              "    }\n",
              "  };\n",
              "}\n",
              "\n",
              "scope.google = scope.google || {};\n",
              "scope.google.colab = scope.google.colab || {};\n",
              "scope.google.colab._files = {\n",
              "  _uploadFiles,\n",
              "  _uploadFilesContinue,\n",
              "};\n",
              "})(self);\n",
              "</script> "
            ]
          },
          "metadata": {}
        },
        {
          "output_type": "stream",
          "name": "stdout",
          "text": [
            "Saving dataset arkansas by myself.csv to dataset arkansas by myself (1).csv\n"
          ]
        }
      ],
      "source": [
        "from google.colab import files\n",
        "uploaded = files.upload()"
      ]
    },
    {
      "cell_type": "code",
      "execution_count": null,
      "metadata": {
        "colab": {
          "base_uri": "https://localhost:8080/",
          "height": 446
        },
        "id": "wEwAOBiiAZ17",
        "outputId": "aef366b6-ef2a-463a-b7fa-b4dc79581139"
      },
      "outputs": [
        {
          "output_type": "execute_result",
          "data": {
            "text/plain": [
              "                                      Sample ID  Age  Label  Jitter (local)  \\\n",
              "0  AH_064F_7AB034C9-72E4-438B-A9B3-AD7FDA1596C5   69      0            0.41   \n",
              "1  AH_114S_A89F3548-0B61-4770-B800-2E26AB3908B6   43      0            0.59   \n",
              "2  AH_121A_BD5BA248-E807-4CB9-8B53-47E7FFE5F8E2   18      0            0.51   \n",
              "3  AH_123G_559F0706-2238-447C-BA39-DB5933BA619D   28      0            0.46   \n",
              "4  AH_195B_39DA6A45-F4CC-492A-80D4-FB79049ACC22   68      0            0.44   \n",
              "\n",
              "   Jitter ddp(%)  Shimmer local(%)  Shimmer dda(%)  Shimmer(dB)  \\\n",
              "0           0.61              3.89            6.57        0.340   \n",
              "1           0.95              9.03           14.00        0.775   \n",
              "2           0.87              4.74            7.86        0.414   \n",
              "3           0.76              5.62            8.94        0.491   \n",
              "4           0.62              7.37           11.96        0.628   \n",
              "\n",
              "   Shimmer APQ3(%)  Shimmer APQ5(%)  ...      MFCC3      MFCC4     MFCC5  \\\n",
              "0             2.19             2.58  ... -96.438440 -27.956131 -5.374026   \n",
              "1             4.67             5.82  ... -70.111496 -24.304478  3.932895   \n",
              "2             2.62             3.29  ... -63.527317 -15.014873  2.571514   \n",
              "3             2.98             3.54  ... -79.562874  -9.637963  6.504622   \n",
              "4             3.99             4.89  ... -91.538510 -21.122873 -8.612599   \n",
              "\n",
              "       MFCC6      MFCC7      MFCC8      MFCC9     MFCC10     MFCC11     MFCC12  \n",
              "0 -48.672127  14.406999   2.435826 -33.177383  11.156488   5.229769  -6.708691  \n",
              "1 -41.759540   3.259878   4.690951 -23.609083   2.527178  -0.801593  -9.001701  \n",
              "2 -36.723186  14.314400   8.136821 -27.558716   1.453599  -1.727923 -18.760218  \n",
              "3 -49.684498  13.514963   9.138590 -31.739088   4.450940   3.487808  -8.733847  \n",
              "4 -52.667625  25.749784  15.876921 -40.066517   1.912060  10.494533  -9.673373  \n",
              "\n",
              "[5 rows x 33 columns]"
            ],
            "text/html": [
              "\n",
              "  <div id=\"df-90cf0e79-76f3-47b8-a665-5d347f27a8f7\" class=\"colab-df-container\">\n",
              "    <div>\n",
              "<style scoped>\n",
              "    .dataframe tbody tr th:only-of-type {\n",
              "        vertical-align: middle;\n",
              "    }\n",
              "\n",
              "    .dataframe tbody tr th {\n",
              "        vertical-align: top;\n",
              "    }\n",
              "\n",
              "    .dataframe thead th {\n",
              "        text-align: right;\n",
              "    }\n",
              "</style>\n",
              "<table border=\"1\" class=\"dataframe\">\n",
              "  <thead>\n",
              "    <tr style=\"text-align: right;\">\n",
              "      <th></th>\n",
              "      <th>Sample ID</th>\n",
              "      <th>Age</th>\n",
              "      <th>Label</th>\n",
              "      <th>Jitter (local)</th>\n",
              "      <th>Jitter ddp(%)</th>\n",
              "      <th>Shimmer local(%)</th>\n",
              "      <th>Shimmer dda(%)</th>\n",
              "      <th>Shimmer(dB)</th>\n",
              "      <th>Shimmer APQ3(%)</th>\n",
              "      <th>Shimmer APQ5(%)</th>\n",
              "      <th>...</th>\n",
              "      <th>MFCC3</th>\n",
              "      <th>MFCC4</th>\n",
              "      <th>MFCC5</th>\n",
              "      <th>MFCC6</th>\n",
              "      <th>MFCC7</th>\n",
              "      <th>MFCC8</th>\n",
              "      <th>MFCC9</th>\n",
              "      <th>MFCC10</th>\n",
              "      <th>MFCC11</th>\n",
              "      <th>MFCC12</th>\n",
              "    </tr>\n",
              "  </thead>\n",
              "  <tbody>\n",
              "    <tr>\n",
              "      <th>0</th>\n",
              "      <td>AH_064F_7AB034C9-72E4-438B-A9B3-AD7FDA1596C5</td>\n",
              "      <td>69</td>\n",
              "      <td>0</td>\n",
              "      <td>0.41</td>\n",
              "      <td>0.61</td>\n",
              "      <td>3.89</td>\n",
              "      <td>6.57</td>\n",
              "      <td>0.340</td>\n",
              "      <td>2.19</td>\n",
              "      <td>2.58</td>\n",
              "      <td>...</td>\n",
              "      <td>-96.438440</td>\n",
              "      <td>-27.956131</td>\n",
              "      <td>-5.374026</td>\n",
              "      <td>-48.672127</td>\n",
              "      <td>14.406999</td>\n",
              "      <td>2.435826</td>\n",
              "      <td>-33.177383</td>\n",
              "      <td>11.156488</td>\n",
              "      <td>5.229769</td>\n",
              "      <td>-6.708691</td>\n",
              "    </tr>\n",
              "    <tr>\n",
              "      <th>1</th>\n",
              "      <td>AH_114S_A89F3548-0B61-4770-B800-2E26AB3908B6</td>\n",
              "      <td>43</td>\n",
              "      <td>0</td>\n",
              "      <td>0.59</td>\n",
              "      <td>0.95</td>\n",
              "      <td>9.03</td>\n",
              "      <td>14.00</td>\n",
              "      <td>0.775</td>\n",
              "      <td>4.67</td>\n",
              "      <td>5.82</td>\n",
              "      <td>...</td>\n",
              "      <td>-70.111496</td>\n",
              "      <td>-24.304478</td>\n",
              "      <td>3.932895</td>\n",
              "      <td>-41.759540</td>\n",
              "      <td>3.259878</td>\n",
              "      <td>4.690951</td>\n",
              "      <td>-23.609083</td>\n",
              "      <td>2.527178</td>\n",
              "      <td>-0.801593</td>\n",
              "      <td>-9.001701</td>\n",
              "    </tr>\n",
              "    <tr>\n",
              "      <th>2</th>\n",
              "      <td>AH_121A_BD5BA248-E807-4CB9-8B53-47E7FFE5F8E2</td>\n",
              "      <td>18</td>\n",
              "      <td>0</td>\n",
              "      <td>0.51</td>\n",
              "      <td>0.87</td>\n",
              "      <td>4.74</td>\n",
              "      <td>7.86</td>\n",
              "      <td>0.414</td>\n",
              "      <td>2.62</td>\n",
              "      <td>3.29</td>\n",
              "      <td>...</td>\n",
              "      <td>-63.527317</td>\n",
              "      <td>-15.014873</td>\n",
              "      <td>2.571514</td>\n",
              "      <td>-36.723186</td>\n",
              "      <td>14.314400</td>\n",
              "      <td>8.136821</td>\n",
              "      <td>-27.558716</td>\n",
              "      <td>1.453599</td>\n",
              "      <td>-1.727923</td>\n",
              "      <td>-18.760218</td>\n",
              "    </tr>\n",
              "    <tr>\n",
              "      <th>3</th>\n",
              "      <td>AH_123G_559F0706-2238-447C-BA39-DB5933BA619D</td>\n",
              "      <td>28</td>\n",
              "      <td>0</td>\n",
              "      <td>0.46</td>\n",
              "      <td>0.76</td>\n",
              "      <td>5.62</td>\n",
              "      <td>8.94</td>\n",
              "      <td>0.491</td>\n",
              "      <td>2.98</td>\n",
              "      <td>3.54</td>\n",
              "      <td>...</td>\n",
              "      <td>-79.562874</td>\n",
              "      <td>-9.637963</td>\n",
              "      <td>6.504622</td>\n",
              "      <td>-49.684498</td>\n",
              "      <td>13.514963</td>\n",
              "      <td>9.138590</td>\n",
              "      <td>-31.739088</td>\n",
              "      <td>4.450940</td>\n",
              "      <td>3.487808</td>\n",
              "      <td>-8.733847</td>\n",
              "    </tr>\n",
              "    <tr>\n",
              "      <th>4</th>\n",
              "      <td>AH_195B_39DA6A45-F4CC-492A-80D4-FB79049ACC22</td>\n",
              "      <td>68</td>\n",
              "      <td>0</td>\n",
              "      <td>0.44</td>\n",
              "      <td>0.62</td>\n",
              "      <td>7.37</td>\n",
              "      <td>11.96</td>\n",
              "      <td>0.628</td>\n",
              "      <td>3.99</td>\n",
              "      <td>4.89</td>\n",
              "      <td>...</td>\n",
              "      <td>-91.538510</td>\n",
              "      <td>-21.122873</td>\n",
              "      <td>-8.612599</td>\n",
              "      <td>-52.667625</td>\n",
              "      <td>25.749784</td>\n",
              "      <td>15.876921</td>\n",
              "      <td>-40.066517</td>\n",
              "      <td>1.912060</td>\n",
              "      <td>10.494533</td>\n",
              "      <td>-9.673373</td>\n",
              "    </tr>\n",
              "  </tbody>\n",
              "</table>\n",
              "<p>5 rows × 33 columns</p>\n",
              "</div>\n",
              "    <div class=\"colab-df-buttons\">\n",
              "\n",
              "  <div class=\"colab-df-container\">\n",
              "    <button class=\"colab-df-convert\" onclick=\"convertToInteractive('df-90cf0e79-76f3-47b8-a665-5d347f27a8f7')\"\n",
              "            title=\"Convert this dataframe to an interactive table.\"\n",
              "            style=\"display:none;\">\n",
              "\n",
              "  <svg xmlns=\"http://www.w3.org/2000/svg\" height=\"24px\" viewBox=\"0 -960 960 960\">\n",
              "    <path d=\"M120-120v-720h720v720H120Zm60-500h600v-160H180v160Zm220 220h160v-160H400v160Zm0 220h160v-160H400v160ZM180-400h160v-160H180v160Zm440 0h160v-160H620v160ZM180-180h160v-160H180v160Zm440 0h160v-160H620v160Z\"/>\n",
              "  </svg>\n",
              "    </button>\n",
              "\n",
              "  <style>\n",
              "    .colab-df-container {\n",
              "      display:flex;\n",
              "      gap: 12px;\n",
              "    }\n",
              "\n",
              "    .colab-df-convert {\n",
              "      background-color: #E8F0FE;\n",
              "      border: none;\n",
              "      border-radius: 50%;\n",
              "      cursor: pointer;\n",
              "      display: none;\n",
              "      fill: #1967D2;\n",
              "      height: 32px;\n",
              "      padding: 0 0 0 0;\n",
              "      width: 32px;\n",
              "    }\n",
              "\n",
              "    .colab-df-convert:hover {\n",
              "      background-color: #E2EBFA;\n",
              "      box-shadow: 0px 1px 2px rgba(60, 64, 67, 0.3), 0px 1px 3px 1px rgba(60, 64, 67, 0.15);\n",
              "      fill: #174EA6;\n",
              "    }\n",
              "\n",
              "    .colab-df-buttons div {\n",
              "      margin-bottom: 4px;\n",
              "    }\n",
              "\n",
              "    [theme=dark] .colab-df-convert {\n",
              "      background-color: #3B4455;\n",
              "      fill: #D2E3FC;\n",
              "    }\n",
              "\n",
              "    [theme=dark] .colab-df-convert:hover {\n",
              "      background-color: #434B5C;\n",
              "      box-shadow: 0px 1px 3px 1px rgba(0, 0, 0, 0.15);\n",
              "      filter: drop-shadow(0px 1px 2px rgba(0, 0, 0, 0.3));\n",
              "      fill: #FFFFFF;\n",
              "    }\n",
              "  </style>\n",
              "\n",
              "    <script>\n",
              "      const buttonEl =\n",
              "        document.querySelector('#df-90cf0e79-76f3-47b8-a665-5d347f27a8f7 button.colab-df-convert');\n",
              "      buttonEl.style.display =\n",
              "        google.colab.kernel.accessAllowed ? 'block' : 'none';\n",
              "\n",
              "      async function convertToInteractive(key) {\n",
              "        const element = document.querySelector('#df-90cf0e79-76f3-47b8-a665-5d347f27a8f7');\n",
              "        const dataTable =\n",
              "          await google.colab.kernel.invokeFunction('convertToInteractive',\n",
              "                                                    [key], {});\n",
              "        if (!dataTable) return;\n",
              "\n",
              "        const docLinkHtml = 'Like what you see? Visit the ' +\n",
              "          '<a target=\"_blank\" href=https://colab.research.google.com/notebooks/data_table.ipynb>data table notebook</a>'\n",
              "          + ' to learn more about interactive tables.';\n",
              "        element.innerHTML = '';\n",
              "        dataTable['output_type'] = 'display_data';\n",
              "        await google.colab.output.renderOutput(dataTable, element);\n",
              "        const docLink = document.createElement('div');\n",
              "        docLink.innerHTML = docLinkHtml;\n",
              "        element.appendChild(docLink);\n",
              "      }\n",
              "    </script>\n",
              "  </div>\n",
              "\n",
              "\n",
              "    <div id=\"df-84c81b8a-eba8-432a-afb3-3d91d8a3b035\">\n",
              "      <button class=\"colab-df-quickchart\" onclick=\"quickchart('df-84c81b8a-eba8-432a-afb3-3d91d8a3b035')\"\n",
              "                title=\"Suggest charts\"\n",
              "                style=\"display:none;\">\n",
              "\n",
              "<svg xmlns=\"http://www.w3.org/2000/svg\" height=\"24px\"viewBox=\"0 0 24 24\"\n",
              "     width=\"24px\">\n",
              "    <g>\n",
              "        <path d=\"M19 3H5c-1.1 0-2 .9-2 2v14c0 1.1.9 2 2 2h14c1.1 0 2-.9 2-2V5c0-1.1-.9-2-2-2zM9 17H7v-7h2v7zm4 0h-2V7h2v10zm4 0h-2v-4h2v4z\"/>\n",
              "    </g>\n",
              "</svg>\n",
              "      </button>\n",
              "\n",
              "<style>\n",
              "  .colab-df-quickchart {\n",
              "      --bg-color: #E8F0FE;\n",
              "      --fill-color: #1967D2;\n",
              "      --hover-bg-color: #E2EBFA;\n",
              "      --hover-fill-color: #174EA6;\n",
              "      --disabled-fill-color: #AAA;\n",
              "      --disabled-bg-color: #DDD;\n",
              "  }\n",
              "\n",
              "  [theme=dark] .colab-df-quickchart {\n",
              "      --bg-color: #3B4455;\n",
              "      --fill-color: #D2E3FC;\n",
              "      --hover-bg-color: #434B5C;\n",
              "      --hover-fill-color: #FFFFFF;\n",
              "      --disabled-bg-color: #3B4455;\n",
              "      --disabled-fill-color: #666;\n",
              "  }\n",
              "\n",
              "  .colab-df-quickchart {\n",
              "    background-color: var(--bg-color);\n",
              "    border: none;\n",
              "    border-radius: 50%;\n",
              "    cursor: pointer;\n",
              "    display: none;\n",
              "    fill: var(--fill-color);\n",
              "    height: 32px;\n",
              "    padding: 0;\n",
              "    width: 32px;\n",
              "  }\n",
              "\n",
              "  .colab-df-quickchart:hover {\n",
              "    background-color: var(--hover-bg-color);\n",
              "    box-shadow: 0 1px 2px rgba(60, 64, 67, 0.3), 0 1px 3px 1px rgba(60, 64, 67, 0.15);\n",
              "    fill: var(--button-hover-fill-color);\n",
              "  }\n",
              "\n",
              "  .colab-df-quickchart-complete:disabled,\n",
              "  .colab-df-quickchart-complete:disabled:hover {\n",
              "    background-color: var(--disabled-bg-color);\n",
              "    fill: var(--disabled-fill-color);\n",
              "    box-shadow: none;\n",
              "  }\n",
              "\n",
              "  .colab-df-spinner {\n",
              "    border: 2px solid var(--fill-color);\n",
              "    border-color: transparent;\n",
              "    border-bottom-color: var(--fill-color);\n",
              "    animation:\n",
              "      spin 1s steps(1) infinite;\n",
              "  }\n",
              "\n",
              "  @keyframes spin {\n",
              "    0% {\n",
              "      border-color: transparent;\n",
              "      border-bottom-color: var(--fill-color);\n",
              "      border-left-color: var(--fill-color);\n",
              "    }\n",
              "    20% {\n",
              "      border-color: transparent;\n",
              "      border-left-color: var(--fill-color);\n",
              "      border-top-color: var(--fill-color);\n",
              "    }\n",
              "    30% {\n",
              "      border-color: transparent;\n",
              "      border-left-color: var(--fill-color);\n",
              "      border-top-color: var(--fill-color);\n",
              "      border-right-color: var(--fill-color);\n",
              "    }\n",
              "    40% {\n",
              "      border-color: transparent;\n",
              "      border-right-color: var(--fill-color);\n",
              "      border-top-color: var(--fill-color);\n",
              "    }\n",
              "    60% {\n",
              "      border-color: transparent;\n",
              "      border-right-color: var(--fill-color);\n",
              "    }\n",
              "    80% {\n",
              "      border-color: transparent;\n",
              "      border-right-color: var(--fill-color);\n",
              "      border-bottom-color: var(--fill-color);\n",
              "    }\n",
              "    90% {\n",
              "      border-color: transparent;\n",
              "      border-bottom-color: var(--fill-color);\n",
              "    }\n",
              "  }\n",
              "</style>\n",
              "\n",
              "      <script>\n",
              "        async function quickchart(key) {\n",
              "          const quickchartButtonEl =\n",
              "            document.querySelector('#' + key + ' button');\n",
              "          quickchartButtonEl.disabled = true;  // To prevent multiple clicks.\n",
              "          quickchartButtonEl.classList.add('colab-df-spinner');\n",
              "          try {\n",
              "            const charts = await google.colab.kernel.invokeFunction(\n",
              "                'suggestCharts', [key], {});\n",
              "          } catch (error) {\n",
              "            console.error('Error during call to suggestCharts:', error);\n",
              "          }\n",
              "          quickchartButtonEl.classList.remove('colab-df-spinner');\n",
              "          quickchartButtonEl.classList.add('colab-df-quickchart-complete');\n",
              "        }\n",
              "        (() => {\n",
              "          let quickchartButtonEl =\n",
              "            document.querySelector('#df-84c81b8a-eba8-432a-afb3-3d91d8a3b035 button');\n",
              "          quickchartButtonEl.style.display =\n",
              "            google.colab.kernel.accessAllowed ? 'block' : 'none';\n",
              "        })();\n",
              "      </script>\n",
              "    </div>\n",
              "\n",
              "    </div>\n",
              "  </div>\n"
            ],
            "application/vnd.google.colaboratory.intrinsic+json": {
              "type": "dataframe",
              "variable_name": "df"
            }
          },
          "metadata": {},
          "execution_count": 170
        }
      ],
      "source": [
        "df = pd.read_csv('dataset arkansas by myself.csv')\n",
        "df.head()\n",
        "\n"
      ]
    },
    {
      "cell_type": "code",
      "execution_count": null,
      "metadata": {
        "colab": {
          "base_uri": "https://localhost:8080/"
        },
        "id": "5aCpj7d7AfXf",
        "outputId": "4f488729-c527-4ffe-b243-4dd47c5ae9f2"
      },
      "outputs": [
        {
          "output_type": "execute_result",
          "data": {
            "text/plain": [
              "(81, 33)"
            ]
          },
          "metadata": {},
          "execution_count": 171
        }
      ],
      "source": [
        "df.shape"
      ]
    },
    {
      "cell_type": "code",
      "execution_count": null,
      "metadata": {
        "colab": {
          "base_uri": "https://localhost:8080/",
          "height": 367
        },
        "id": "4iuhawfkAfUL",
        "outputId": "55057c93-ee20-48ea-9c52-65cfc0c64e30"
      },
      "outputs": [
        {
          "output_type": "execute_result",
          "data": {
            "text/plain": [
              "             Age      Label  Jitter (local)  Jitter ddp(%)  Shimmer local(%)  \\\n",
              "count  81.000000  81.000000       81.000000      81.000000         81.000000   \n",
              "mean   57.283951   0.493827        0.624198       1.009506          6.767778   \n",
              "std    15.391747   0.503077        0.442786       0.787709          3.036588   \n",
              "min    18.000000   0.000000        0.010000       0.010000          3.230000   \n",
              "25%    44.000000   0.000000        0.400000       0.590000          4.470000   \n",
              "50%    58.000000   0.000000        0.500000       0.780000          5.840000   \n",
              "75%    69.000000   1.000000        0.710000       1.170000          8.470000   \n",
              "max    85.000000   1.000000        3.130000       5.690000         19.310000   \n",
              "\n",
              "       Shimmer dda(%)  Shimmer(dB)  Shimmer APQ3(%)  Shimmer APQ5(%)  \\\n",
              "count       81.000000    81.000000        81.000000        81.000000   \n",
              "mean        10.556296     0.673494         3.519136         4.335185   \n",
              "std          4.680224     0.670196         1.560417         1.961456   \n",
              "min          4.450000     0.281000         1.480000         2.020000   \n",
              "25%          7.080000     0.394000         2.360000         2.790000   \n",
              "50%          8.940000     0.505000         2.980000         3.600000   \n",
              "75%         13.890000     0.786000         4.630000         5.460000   \n",
              "max         28.780000     6.123000         9.600000        12.140000   \n",
              "\n",
              "        Mean NHR  ...       MFCC3      MFCC4      MFCC5      MFCC6      MFCC7  \\\n",
              "count  81.000000  ...   81.000000  81.000000  81.000000  81.000000  81.000000   \n",
              "mean    0.022679  ...  -72.889067 -17.368801  -2.063048 -41.601588  17.221125   \n",
              "std     0.022888  ...   25.191299  13.413671  14.675171  13.804819  10.652324   \n",
              "min     0.002000  ... -132.886930 -40.624800 -32.559868 -81.838120 -12.371778   \n",
              "25%     0.008000  ...  -93.060280 -25.990301 -12.829611 -48.746680  10.614345   \n",
              "50%     0.016000  ...  -71.242850 -19.408869  -4.226351 -40.786450  18.533266   \n",
              "75%     0.025000  ...  -53.929016  -9.637963   6.872439 -31.272013  24.983423   \n",
              "max     0.149000  ...  -18.822361  32.181830  37.213080 -13.229027  39.872520   \n",
              "\n",
              "           MFCC8      MFCC9     MFCC10     MFCC11     MFCC12  \n",
              "count  81.000000  81.000000  81.000000  81.000000  81.000000  \n",
              "mean    8.922890 -29.081114   5.911549   2.150097 -14.954871  \n",
              "std     8.603055   7.747544   7.625230   6.022619   8.334701  \n",
              "min   -13.927407 -48.556080 -18.195595 -17.045364 -38.829308  \n",
              "25%     2.988624 -34.205240   1.033861  -0.874818 -19.655973  \n",
              "50%     7.598000 -28.868580   4.450940   2.585060 -14.817467  \n",
              "75%    14.757364 -24.730536  11.726673   6.151954  -9.040260  \n",
              "max    28.275597  -4.037788  25.463013  13.224677   5.699036  \n",
              "\n",
              "[8 rows x 32 columns]"
            ],
            "text/html": [
              "\n",
              "  <div id=\"df-7ae7236e-6256-461b-a2ae-609373d15ba4\" class=\"colab-df-container\">\n",
              "    <div>\n",
              "<style scoped>\n",
              "    .dataframe tbody tr th:only-of-type {\n",
              "        vertical-align: middle;\n",
              "    }\n",
              "\n",
              "    .dataframe tbody tr th {\n",
              "        vertical-align: top;\n",
              "    }\n",
              "\n",
              "    .dataframe thead th {\n",
              "        text-align: right;\n",
              "    }\n",
              "</style>\n",
              "<table border=\"1\" class=\"dataframe\">\n",
              "  <thead>\n",
              "    <tr style=\"text-align: right;\">\n",
              "      <th></th>\n",
              "      <th>Age</th>\n",
              "      <th>Label</th>\n",
              "      <th>Jitter (local)</th>\n",
              "      <th>Jitter ddp(%)</th>\n",
              "      <th>Shimmer local(%)</th>\n",
              "      <th>Shimmer dda(%)</th>\n",
              "      <th>Shimmer(dB)</th>\n",
              "      <th>Shimmer APQ3(%)</th>\n",
              "      <th>Shimmer APQ5(%)</th>\n",
              "      <th>Mean NHR</th>\n",
              "      <th>...</th>\n",
              "      <th>MFCC3</th>\n",
              "      <th>MFCC4</th>\n",
              "      <th>MFCC5</th>\n",
              "      <th>MFCC6</th>\n",
              "      <th>MFCC7</th>\n",
              "      <th>MFCC8</th>\n",
              "      <th>MFCC9</th>\n",
              "      <th>MFCC10</th>\n",
              "      <th>MFCC11</th>\n",
              "      <th>MFCC12</th>\n",
              "    </tr>\n",
              "  </thead>\n",
              "  <tbody>\n",
              "    <tr>\n",
              "      <th>count</th>\n",
              "      <td>81.000000</td>\n",
              "      <td>81.000000</td>\n",
              "      <td>81.000000</td>\n",
              "      <td>81.000000</td>\n",
              "      <td>81.000000</td>\n",
              "      <td>81.000000</td>\n",
              "      <td>81.000000</td>\n",
              "      <td>81.000000</td>\n",
              "      <td>81.000000</td>\n",
              "      <td>81.000000</td>\n",
              "      <td>...</td>\n",
              "      <td>81.000000</td>\n",
              "      <td>81.000000</td>\n",
              "      <td>81.000000</td>\n",
              "      <td>81.000000</td>\n",
              "      <td>81.000000</td>\n",
              "      <td>81.000000</td>\n",
              "      <td>81.000000</td>\n",
              "      <td>81.000000</td>\n",
              "      <td>81.000000</td>\n",
              "      <td>81.000000</td>\n",
              "    </tr>\n",
              "    <tr>\n",
              "      <th>mean</th>\n",
              "      <td>57.283951</td>\n",
              "      <td>0.493827</td>\n",
              "      <td>0.624198</td>\n",
              "      <td>1.009506</td>\n",
              "      <td>6.767778</td>\n",
              "      <td>10.556296</td>\n",
              "      <td>0.673494</td>\n",
              "      <td>3.519136</td>\n",
              "      <td>4.335185</td>\n",
              "      <td>0.022679</td>\n",
              "      <td>...</td>\n",
              "      <td>-72.889067</td>\n",
              "      <td>-17.368801</td>\n",
              "      <td>-2.063048</td>\n",
              "      <td>-41.601588</td>\n",
              "      <td>17.221125</td>\n",
              "      <td>8.922890</td>\n",
              "      <td>-29.081114</td>\n",
              "      <td>5.911549</td>\n",
              "      <td>2.150097</td>\n",
              "      <td>-14.954871</td>\n",
              "    </tr>\n",
              "    <tr>\n",
              "      <th>std</th>\n",
              "      <td>15.391747</td>\n",
              "      <td>0.503077</td>\n",
              "      <td>0.442786</td>\n",
              "      <td>0.787709</td>\n",
              "      <td>3.036588</td>\n",
              "      <td>4.680224</td>\n",
              "      <td>0.670196</td>\n",
              "      <td>1.560417</td>\n",
              "      <td>1.961456</td>\n",
              "      <td>0.022888</td>\n",
              "      <td>...</td>\n",
              "      <td>25.191299</td>\n",
              "      <td>13.413671</td>\n",
              "      <td>14.675171</td>\n",
              "      <td>13.804819</td>\n",
              "      <td>10.652324</td>\n",
              "      <td>8.603055</td>\n",
              "      <td>7.747544</td>\n",
              "      <td>7.625230</td>\n",
              "      <td>6.022619</td>\n",
              "      <td>8.334701</td>\n",
              "    </tr>\n",
              "    <tr>\n",
              "      <th>min</th>\n",
              "      <td>18.000000</td>\n",
              "      <td>0.000000</td>\n",
              "      <td>0.010000</td>\n",
              "      <td>0.010000</td>\n",
              "      <td>3.230000</td>\n",
              "      <td>4.450000</td>\n",
              "      <td>0.281000</td>\n",
              "      <td>1.480000</td>\n",
              "      <td>2.020000</td>\n",
              "      <td>0.002000</td>\n",
              "      <td>...</td>\n",
              "      <td>-132.886930</td>\n",
              "      <td>-40.624800</td>\n",
              "      <td>-32.559868</td>\n",
              "      <td>-81.838120</td>\n",
              "      <td>-12.371778</td>\n",
              "      <td>-13.927407</td>\n",
              "      <td>-48.556080</td>\n",
              "      <td>-18.195595</td>\n",
              "      <td>-17.045364</td>\n",
              "      <td>-38.829308</td>\n",
              "    </tr>\n",
              "    <tr>\n",
              "      <th>25%</th>\n",
              "      <td>44.000000</td>\n",
              "      <td>0.000000</td>\n",
              "      <td>0.400000</td>\n",
              "      <td>0.590000</td>\n",
              "      <td>4.470000</td>\n",
              "      <td>7.080000</td>\n",
              "      <td>0.394000</td>\n",
              "      <td>2.360000</td>\n",
              "      <td>2.790000</td>\n",
              "      <td>0.008000</td>\n",
              "      <td>...</td>\n",
              "      <td>-93.060280</td>\n",
              "      <td>-25.990301</td>\n",
              "      <td>-12.829611</td>\n",
              "      <td>-48.746680</td>\n",
              "      <td>10.614345</td>\n",
              "      <td>2.988624</td>\n",
              "      <td>-34.205240</td>\n",
              "      <td>1.033861</td>\n",
              "      <td>-0.874818</td>\n",
              "      <td>-19.655973</td>\n",
              "    </tr>\n",
              "    <tr>\n",
              "      <th>50%</th>\n",
              "      <td>58.000000</td>\n",
              "      <td>0.000000</td>\n",
              "      <td>0.500000</td>\n",
              "      <td>0.780000</td>\n",
              "      <td>5.840000</td>\n",
              "      <td>8.940000</td>\n",
              "      <td>0.505000</td>\n",
              "      <td>2.980000</td>\n",
              "      <td>3.600000</td>\n",
              "      <td>0.016000</td>\n",
              "      <td>...</td>\n",
              "      <td>-71.242850</td>\n",
              "      <td>-19.408869</td>\n",
              "      <td>-4.226351</td>\n",
              "      <td>-40.786450</td>\n",
              "      <td>18.533266</td>\n",
              "      <td>7.598000</td>\n",
              "      <td>-28.868580</td>\n",
              "      <td>4.450940</td>\n",
              "      <td>2.585060</td>\n",
              "      <td>-14.817467</td>\n",
              "    </tr>\n",
              "    <tr>\n",
              "      <th>75%</th>\n",
              "      <td>69.000000</td>\n",
              "      <td>1.000000</td>\n",
              "      <td>0.710000</td>\n",
              "      <td>1.170000</td>\n",
              "      <td>8.470000</td>\n",
              "      <td>13.890000</td>\n",
              "      <td>0.786000</td>\n",
              "      <td>4.630000</td>\n",
              "      <td>5.460000</td>\n",
              "      <td>0.025000</td>\n",
              "      <td>...</td>\n",
              "      <td>-53.929016</td>\n",
              "      <td>-9.637963</td>\n",
              "      <td>6.872439</td>\n",
              "      <td>-31.272013</td>\n",
              "      <td>24.983423</td>\n",
              "      <td>14.757364</td>\n",
              "      <td>-24.730536</td>\n",
              "      <td>11.726673</td>\n",
              "      <td>6.151954</td>\n",
              "      <td>-9.040260</td>\n",
              "    </tr>\n",
              "    <tr>\n",
              "      <th>max</th>\n",
              "      <td>85.000000</td>\n",
              "      <td>1.000000</td>\n",
              "      <td>3.130000</td>\n",
              "      <td>5.690000</td>\n",
              "      <td>19.310000</td>\n",
              "      <td>28.780000</td>\n",
              "      <td>6.123000</td>\n",
              "      <td>9.600000</td>\n",
              "      <td>12.140000</td>\n",
              "      <td>0.149000</td>\n",
              "      <td>...</td>\n",
              "      <td>-18.822361</td>\n",
              "      <td>32.181830</td>\n",
              "      <td>37.213080</td>\n",
              "      <td>-13.229027</td>\n",
              "      <td>39.872520</td>\n",
              "      <td>28.275597</td>\n",
              "      <td>-4.037788</td>\n",
              "      <td>25.463013</td>\n",
              "      <td>13.224677</td>\n",
              "      <td>5.699036</td>\n",
              "    </tr>\n",
              "  </tbody>\n",
              "</table>\n",
              "<p>8 rows × 32 columns</p>\n",
              "</div>\n",
              "    <div class=\"colab-df-buttons\">\n",
              "\n",
              "  <div class=\"colab-df-container\">\n",
              "    <button class=\"colab-df-convert\" onclick=\"convertToInteractive('df-7ae7236e-6256-461b-a2ae-609373d15ba4')\"\n",
              "            title=\"Convert this dataframe to an interactive table.\"\n",
              "            style=\"display:none;\">\n",
              "\n",
              "  <svg xmlns=\"http://www.w3.org/2000/svg\" height=\"24px\" viewBox=\"0 -960 960 960\">\n",
              "    <path d=\"M120-120v-720h720v720H120Zm60-500h600v-160H180v160Zm220 220h160v-160H400v160Zm0 220h160v-160H400v160ZM180-400h160v-160H180v160Zm440 0h160v-160H620v160ZM180-180h160v-160H180v160Zm440 0h160v-160H620v160Z\"/>\n",
              "  </svg>\n",
              "    </button>\n",
              "\n",
              "  <style>\n",
              "    .colab-df-container {\n",
              "      display:flex;\n",
              "      gap: 12px;\n",
              "    }\n",
              "\n",
              "    .colab-df-convert {\n",
              "      background-color: #E8F0FE;\n",
              "      border: none;\n",
              "      border-radius: 50%;\n",
              "      cursor: pointer;\n",
              "      display: none;\n",
              "      fill: #1967D2;\n",
              "      height: 32px;\n",
              "      padding: 0 0 0 0;\n",
              "      width: 32px;\n",
              "    }\n",
              "\n",
              "    .colab-df-convert:hover {\n",
              "      background-color: #E2EBFA;\n",
              "      box-shadow: 0px 1px 2px rgba(60, 64, 67, 0.3), 0px 1px 3px 1px rgba(60, 64, 67, 0.15);\n",
              "      fill: #174EA6;\n",
              "    }\n",
              "\n",
              "    .colab-df-buttons div {\n",
              "      margin-bottom: 4px;\n",
              "    }\n",
              "\n",
              "    [theme=dark] .colab-df-convert {\n",
              "      background-color: #3B4455;\n",
              "      fill: #D2E3FC;\n",
              "    }\n",
              "\n",
              "    [theme=dark] .colab-df-convert:hover {\n",
              "      background-color: #434B5C;\n",
              "      box-shadow: 0px 1px 3px 1px rgba(0, 0, 0, 0.15);\n",
              "      filter: drop-shadow(0px 1px 2px rgba(0, 0, 0, 0.3));\n",
              "      fill: #FFFFFF;\n",
              "    }\n",
              "  </style>\n",
              "\n",
              "    <script>\n",
              "      const buttonEl =\n",
              "        document.querySelector('#df-7ae7236e-6256-461b-a2ae-609373d15ba4 button.colab-df-convert');\n",
              "      buttonEl.style.display =\n",
              "        google.colab.kernel.accessAllowed ? 'block' : 'none';\n",
              "\n",
              "      async function convertToInteractive(key) {\n",
              "        const element = document.querySelector('#df-7ae7236e-6256-461b-a2ae-609373d15ba4');\n",
              "        const dataTable =\n",
              "          await google.colab.kernel.invokeFunction('convertToInteractive',\n",
              "                                                    [key], {});\n",
              "        if (!dataTable) return;\n",
              "\n",
              "        const docLinkHtml = 'Like what you see? Visit the ' +\n",
              "          '<a target=\"_blank\" href=https://colab.research.google.com/notebooks/data_table.ipynb>data table notebook</a>'\n",
              "          + ' to learn more about interactive tables.';\n",
              "        element.innerHTML = '';\n",
              "        dataTable['output_type'] = 'display_data';\n",
              "        await google.colab.output.renderOutput(dataTable, element);\n",
              "        const docLink = document.createElement('div');\n",
              "        docLink.innerHTML = docLinkHtml;\n",
              "        element.appendChild(docLink);\n",
              "      }\n",
              "    </script>\n",
              "  </div>\n",
              "\n",
              "\n",
              "    <div id=\"df-7ed1e8e2-27ba-4a3e-90ed-074c965db8cb\">\n",
              "      <button class=\"colab-df-quickchart\" onclick=\"quickchart('df-7ed1e8e2-27ba-4a3e-90ed-074c965db8cb')\"\n",
              "                title=\"Suggest charts\"\n",
              "                style=\"display:none;\">\n",
              "\n",
              "<svg xmlns=\"http://www.w3.org/2000/svg\" height=\"24px\"viewBox=\"0 0 24 24\"\n",
              "     width=\"24px\">\n",
              "    <g>\n",
              "        <path d=\"M19 3H5c-1.1 0-2 .9-2 2v14c0 1.1.9 2 2 2h14c1.1 0 2-.9 2-2V5c0-1.1-.9-2-2-2zM9 17H7v-7h2v7zm4 0h-2V7h2v10zm4 0h-2v-4h2v4z\"/>\n",
              "    </g>\n",
              "</svg>\n",
              "      </button>\n",
              "\n",
              "<style>\n",
              "  .colab-df-quickchart {\n",
              "      --bg-color: #E8F0FE;\n",
              "      --fill-color: #1967D2;\n",
              "      --hover-bg-color: #E2EBFA;\n",
              "      --hover-fill-color: #174EA6;\n",
              "      --disabled-fill-color: #AAA;\n",
              "      --disabled-bg-color: #DDD;\n",
              "  }\n",
              "\n",
              "  [theme=dark] .colab-df-quickchart {\n",
              "      --bg-color: #3B4455;\n",
              "      --fill-color: #D2E3FC;\n",
              "      --hover-bg-color: #434B5C;\n",
              "      --hover-fill-color: #FFFFFF;\n",
              "      --disabled-bg-color: #3B4455;\n",
              "      --disabled-fill-color: #666;\n",
              "  }\n",
              "\n",
              "  .colab-df-quickchart {\n",
              "    background-color: var(--bg-color);\n",
              "    border: none;\n",
              "    border-radius: 50%;\n",
              "    cursor: pointer;\n",
              "    display: none;\n",
              "    fill: var(--fill-color);\n",
              "    height: 32px;\n",
              "    padding: 0;\n",
              "    width: 32px;\n",
              "  }\n",
              "\n",
              "  .colab-df-quickchart:hover {\n",
              "    background-color: var(--hover-bg-color);\n",
              "    box-shadow: 0 1px 2px rgba(60, 64, 67, 0.3), 0 1px 3px 1px rgba(60, 64, 67, 0.15);\n",
              "    fill: var(--button-hover-fill-color);\n",
              "  }\n",
              "\n",
              "  .colab-df-quickchart-complete:disabled,\n",
              "  .colab-df-quickchart-complete:disabled:hover {\n",
              "    background-color: var(--disabled-bg-color);\n",
              "    fill: var(--disabled-fill-color);\n",
              "    box-shadow: none;\n",
              "  }\n",
              "\n",
              "  .colab-df-spinner {\n",
              "    border: 2px solid var(--fill-color);\n",
              "    border-color: transparent;\n",
              "    border-bottom-color: var(--fill-color);\n",
              "    animation:\n",
              "      spin 1s steps(1) infinite;\n",
              "  }\n",
              "\n",
              "  @keyframes spin {\n",
              "    0% {\n",
              "      border-color: transparent;\n",
              "      border-bottom-color: var(--fill-color);\n",
              "      border-left-color: var(--fill-color);\n",
              "    }\n",
              "    20% {\n",
              "      border-color: transparent;\n",
              "      border-left-color: var(--fill-color);\n",
              "      border-top-color: var(--fill-color);\n",
              "    }\n",
              "    30% {\n",
              "      border-color: transparent;\n",
              "      border-left-color: var(--fill-color);\n",
              "      border-top-color: var(--fill-color);\n",
              "      border-right-color: var(--fill-color);\n",
              "    }\n",
              "    40% {\n",
              "      border-color: transparent;\n",
              "      border-right-color: var(--fill-color);\n",
              "      border-top-color: var(--fill-color);\n",
              "    }\n",
              "    60% {\n",
              "      border-color: transparent;\n",
              "      border-right-color: var(--fill-color);\n",
              "    }\n",
              "    80% {\n",
              "      border-color: transparent;\n",
              "      border-right-color: var(--fill-color);\n",
              "      border-bottom-color: var(--fill-color);\n",
              "    }\n",
              "    90% {\n",
              "      border-color: transparent;\n",
              "      border-bottom-color: var(--fill-color);\n",
              "    }\n",
              "  }\n",
              "</style>\n",
              "\n",
              "      <script>\n",
              "        async function quickchart(key) {\n",
              "          const quickchartButtonEl =\n",
              "            document.querySelector('#' + key + ' button');\n",
              "          quickchartButtonEl.disabled = true;  // To prevent multiple clicks.\n",
              "          quickchartButtonEl.classList.add('colab-df-spinner');\n",
              "          try {\n",
              "            const charts = await google.colab.kernel.invokeFunction(\n",
              "                'suggestCharts', [key], {});\n",
              "          } catch (error) {\n",
              "            console.error('Error during call to suggestCharts:', error);\n",
              "          }\n",
              "          quickchartButtonEl.classList.remove('colab-df-spinner');\n",
              "          quickchartButtonEl.classList.add('colab-df-quickchart-complete');\n",
              "        }\n",
              "        (() => {\n",
              "          let quickchartButtonEl =\n",
              "            document.querySelector('#df-7ed1e8e2-27ba-4a3e-90ed-074c965db8cb button');\n",
              "          quickchartButtonEl.style.display =\n",
              "            google.colab.kernel.accessAllowed ? 'block' : 'none';\n",
              "        })();\n",
              "      </script>\n",
              "    </div>\n",
              "\n",
              "    </div>\n",
              "  </div>\n"
            ],
            "application/vnd.google.colaboratory.intrinsic+json": {
              "type": "dataframe"
            }
          },
          "metadata": {},
          "execution_count": 172
        }
      ],
      "source": [
        "df.describe()"
      ]
    },
    {
      "cell_type": "code",
      "execution_count": null,
      "metadata": {
        "colab": {
          "base_uri": "https://localhost:8080/",
          "height": 1000
        },
        "id": "wiaK0mlX6lr1",
        "outputId": "cf40f47a-8ff2-4d9d-ad57-60da6fe39ee4"
      },
      "outputs": [
        {
          "output_type": "execute_result",
          "data": {
            "text/plain": [
              "Sample ID           AH_064F_7AB034C9-72E4-438B-A9B3-AD7FDA1596C5AH...\n",
              "Age                                                              4640\n",
              "Label                                                              40\n",
              "Jitter (local)                                                  50.56\n",
              "Jitter ddp(%)                                                   81.77\n",
              "Shimmer local(%)                                               548.19\n",
              "Shimmer dda(%)                                                 855.06\n",
              "Shimmer(dB)                                                    54.553\n",
              "Shimmer APQ3(%)                                                285.05\n",
              "Shimmer APQ5(%)                                                351.15\n",
              "Mean NHR                                                        1.837\n",
              "HNR(DB)                                                      1649.151\n",
              "pitch                                                       13952.174\n",
              "Intensity (Db)                                               6725.379\n",
              "Formant 1(HZ)                                               55681.595\n",
              "Formant 2(HZ)                                               94369.939\n",
              "Formant 3(HZ)                                              170459.507\n",
              "Formant 4(HZ)                                               244423.37\n",
              "CPPS(Db)                                                     1077.957\n",
              "PPE                                                           134.888\n",
              "RPDE                                                           45.297\n",
              "MFCC1                                                    -16792.06263\n",
              "MFCC2                                                     16989.96356\n",
              "MFCC3                                                    -5904.014449\n",
              "MFCC4                                                    -1406.872884\n",
              "MFCC5                                                     -167.106899\n",
              "MFCC6                                                    -3369.728602\n",
              "MFCC7                                                     1394.911091\n",
              "MFCC8                                                      722.754128\n",
              "MFCC9                                                    -2355.570238\n",
              "MFCC10                                                     478.835463\n",
              "MFCC11                                                     174.157843\n",
              "MFCC12                                                   -1211.344512\n",
              "dtype: object"
            ],
            "text/html": [
              "<div>\n",
              "<style scoped>\n",
              "    .dataframe tbody tr th:only-of-type {\n",
              "        vertical-align: middle;\n",
              "    }\n",
              "\n",
              "    .dataframe tbody tr th {\n",
              "        vertical-align: top;\n",
              "    }\n",
              "\n",
              "    .dataframe thead th {\n",
              "        text-align: right;\n",
              "    }\n",
              "</style>\n",
              "<table border=\"1\" class=\"dataframe\">\n",
              "  <thead>\n",
              "    <tr style=\"text-align: right;\">\n",
              "      <th></th>\n",
              "      <th>0</th>\n",
              "    </tr>\n",
              "  </thead>\n",
              "  <tbody>\n",
              "    <tr>\n",
              "      <th>Sample ID</th>\n",
              "      <td>AH_064F_7AB034C9-72E4-438B-A9B3-AD7FDA1596C5AH...</td>\n",
              "    </tr>\n",
              "    <tr>\n",
              "      <th>Age</th>\n",
              "      <td>4640</td>\n",
              "    </tr>\n",
              "    <tr>\n",
              "      <th>Label</th>\n",
              "      <td>40</td>\n",
              "    </tr>\n",
              "    <tr>\n",
              "      <th>Jitter (local)</th>\n",
              "      <td>50.56</td>\n",
              "    </tr>\n",
              "    <tr>\n",
              "      <th>Jitter ddp(%)</th>\n",
              "      <td>81.77</td>\n",
              "    </tr>\n",
              "    <tr>\n",
              "      <th>Shimmer local(%)</th>\n",
              "      <td>548.19</td>\n",
              "    </tr>\n",
              "    <tr>\n",
              "      <th>Shimmer dda(%)</th>\n",
              "      <td>855.06</td>\n",
              "    </tr>\n",
              "    <tr>\n",
              "      <th>Shimmer(dB)</th>\n",
              "      <td>54.553</td>\n",
              "    </tr>\n",
              "    <tr>\n",
              "      <th>Shimmer APQ3(%)</th>\n",
              "      <td>285.05</td>\n",
              "    </tr>\n",
              "    <tr>\n",
              "      <th>Shimmer APQ5(%)</th>\n",
              "      <td>351.15</td>\n",
              "    </tr>\n",
              "    <tr>\n",
              "      <th>Mean NHR</th>\n",
              "      <td>1.837</td>\n",
              "    </tr>\n",
              "    <tr>\n",
              "      <th>HNR(DB)</th>\n",
              "      <td>1649.151</td>\n",
              "    </tr>\n",
              "    <tr>\n",
              "      <th>pitch</th>\n",
              "      <td>13952.174</td>\n",
              "    </tr>\n",
              "    <tr>\n",
              "      <th>Intensity (Db)</th>\n",
              "      <td>6725.379</td>\n",
              "    </tr>\n",
              "    <tr>\n",
              "      <th>Formant 1(HZ)</th>\n",
              "      <td>55681.595</td>\n",
              "    </tr>\n",
              "    <tr>\n",
              "      <th>Formant 2(HZ)</th>\n",
              "      <td>94369.939</td>\n",
              "    </tr>\n",
              "    <tr>\n",
              "      <th>Formant 3(HZ)</th>\n",
              "      <td>170459.507</td>\n",
              "    </tr>\n",
              "    <tr>\n",
              "      <th>Formant 4(HZ)</th>\n",
              "      <td>244423.37</td>\n",
              "    </tr>\n",
              "    <tr>\n",
              "      <th>CPPS(Db)</th>\n",
              "      <td>1077.957</td>\n",
              "    </tr>\n",
              "    <tr>\n",
              "      <th>PPE</th>\n",
              "      <td>134.888</td>\n",
              "    </tr>\n",
              "    <tr>\n",
              "      <th>RPDE</th>\n",
              "      <td>45.297</td>\n",
              "    </tr>\n",
              "    <tr>\n",
              "      <th>MFCC1</th>\n",
              "      <td>-16792.06263</td>\n",
              "    </tr>\n",
              "    <tr>\n",
              "      <th>MFCC2</th>\n",
              "      <td>16989.96356</td>\n",
              "    </tr>\n",
              "    <tr>\n",
              "      <th>MFCC3</th>\n",
              "      <td>-5904.014449</td>\n",
              "    </tr>\n",
              "    <tr>\n",
              "      <th>MFCC4</th>\n",
              "      <td>-1406.872884</td>\n",
              "    </tr>\n",
              "    <tr>\n",
              "      <th>MFCC5</th>\n",
              "      <td>-167.106899</td>\n",
              "    </tr>\n",
              "    <tr>\n",
              "      <th>MFCC6</th>\n",
              "      <td>-3369.728602</td>\n",
              "    </tr>\n",
              "    <tr>\n",
              "      <th>MFCC7</th>\n",
              "      <td>1394.911091</td>\n",
              "    </tr>\n",
              "    <tr>\n",
              "      <th>MFCC8</th>\n",
              "      <td>722.754128</td>\n",
              "    </tr>\n",
              "    <tr>\n",
              "      <th>MFCC9</th>\n",
              "      <td>-2355.570238</td>\n",
              "    </tr>\n",
              "    <tr>\n",
              "      <th>MFCC10</th>\n",
              "      <td>478.835463</td>\n",
              "    </tr>\n",
              "    <tr>\n",
              "      <th>MFCC11</th>\n",
              "      <td>174.157843</td>\n",
              "    </tr>\n",
              "    <tr>\n",
              "      <th>MFCC12</th>\n",
              "      <td>-1211.344512</td>\n",
              "    </tr>\n",
              "  </tbody>\n",
              "</table>\n",
              "</div><br><label><b>dtype:</b> object</label>"
            ]
          },
          "metadata": {},
          "execution_count": 173
        }
      ],
      "source": [
        "df.sum()"
      ]
    },
    {
      "cell_type": "code",
      "execution_count": null,
      "metadata": {
        "colab": {
          "base_uri": "https://localhost:8080/"
        },
        "id": "MpYmoyWoAfOA",
        "outputId": "db678348-59a1-4726-b687-7e459aa739de"
      },
      "outputs": [
        {
          "output_type": "stream",
          "name": "stdout",
          "text": [
            "<class 'pandas.core.frame.DataFrame'>\n",
            "RangeIndex: 81 entries, 0 to 80\n",
            "Data columns (total 33 columns):\n",
            " #   Column            Non-Null Count  Dtype  \n",
            "---  ------            --------------  -----  \n",
            " 0   Sample ID         81 non-null     object \n",
            " 1   Age               81 non-null     int64  \n",
            " 2   Label             81 non-null     int64  \n",
            " 3   Jitter (local)    81 non-null     float64\n",
            " 4   Jitter ddp(%)     81 non-null     float64\n",
            " 5   Shimmer local(%)  81 non-null     float64\n",
            " 6   Shimmer dda(%)    81 non-null     float64\n",
            " 7   Shimmer(dB)       81 non-null     float64\n",
            " 8   Shimmer APQ3(%)   81 non-null     float64\n",
            " 9   Shimmer APQ5(%)   81 non-null     float64\n",
            " 10  Mean NHR          81 non-null     float64\n",
            " 11  HNR(DB)           81 non-null     float64\n",
            " 12  pitch             81 non-null     float64\n",
            " 13  Intensity (Db)    81 non-null     float64\n",
            " 14  Formant 1(HZ)     81 non-null     float64\n",
            " 15  Formant 2(HZ)     81 non-null     float64\n",
            " 16  Formant 3(HZ)     81 non-null     float64\n",
            " 17  Formant 4(HZ)     81 non-null     float64\n",
            " 18  CPPS(Db)          81 non-null     float64\n",
            " 19  PPE               81 non-null     float64\n",
            " 20  RPDE              81 non-null     float64\n",
            " 21  MFCC1             81 non-null     float64\n",
            " 22  MFCC2             81 non-null     float64\n",
            " 23  MFCC3             81 non-null     float64\n",
            " 24  MFCC4             81 non-null     float64\n",
            " 25  MFCC5             81 non-null     float64\n",
            " 26  MFCC6             81 non-null     float64\n",
            " 27  MFCC7             81 non-null     float64\n",
            " 28  MFCC8             81 non-null     float64\n",
            " 29  MFCC9             81 non-null     float64\n",
            " 30  MFCC10            81 non-null     float64\n",
            " 31  MFCC11            81 non-null     float64\n",
            " 32  MFCC12            81 non-null     float64\n",
            "dtypes: float64(30), int64(2), object(1)\n",
            "memory usage: 21.0+ KB\n"
          ]
        }
      ],
      "source": [
        "df.info()"
      ]
    },
    {
      "cell_type": "code",
      "execution_count": null,
      "metadata": {
        "colab": {
          "base_uri": "https://localhost:8080/",
          "height": 178
        },
        "id": "pDvojmdyAfLL",
        "outputId": "ca91f3a1-5d14-488c-dd56-cf8f6779a188"
      },
      "outputs": [
        {
          "output_type": "execute_result",
          "data": {
            "text/plain": [
              "Label\n",
              "0    41\n",
              "1    40\n",
              "Name: count, dtype: int64"
            ],
            "text/html": [
              "<div>\n",
              "<style scoped>\n",
              "    .dataframe tbody tr th:only-of-type {\n",
              "        vertical-align: middle;\n",
              "    }\n",
              "\n",
              "    .dataframe tbody tr th {\n",
              "        vertical-align: top;\n",
              "    }\n",
              "\n",
              "    .dataframe thead th {\n",
              "        text-align: right;\n",
              "    }\n",
              "</style>\n",
              "<table border=\"1\" class=\"dataframe\">\n",
              "  <thead>\n",
              "    <tr style=\"text-align: right;\">\n",
              "      <th></th>\n",
              "      <th>count</th>\n",
              "    </tr>\n",
              "    <tr>\n",
              "      <th>Label</th>\n",
              "      <th></th>\n",
              "    </tr>\n",
              "  </thead>\n",
              "  <tbody>\n",
              "    <tr>\n",
              "      <th>0</th>\n",
              "      <td>41</td>\n",
              "    </tr>\n",
              "    <tr>\n",
              "      <th>1</th>\n",
              "      <td>40</td>\n",
              "    </tr>\n",
              "  </tbody>\n",
              "</table>\n",
              "</div><br><label><b>dtype:</b> int64</label>"
            ]
          },
          "metadata": {},
          "execution_count": 175
        }
      ],
      "source": [
        "df['Label'].value_counts()"
      ]
    },
    {
      "cell_type": "code",
      "execution_count": null,
      "metadata": {
        "colab": {
          "base_uri": "https://localhost:8080/",
          "height": 807
        },
        "id": "q6c5lMLfAfH1",
        "outputId": "b9b1084d-dca0-4225-d2ac-fa832d9132b2"
      },
      "outputs": [
        {
          "output_type": "display_data",
          "data": {
            "text/plain": [
              "<Figure size 1200x800 with 36 Axes>"
            ],
            "image/png": "[encoded data removed]"
          },
          "metadata": {}
        }
      ],
      "source": [
        "df.hist(bins=50, figsize=(12, 8))\n",
        "plt.tight_layout()\n",
        "plt.show()"
      ]
    },
    {
      "cell_type": "code",
      "execution_count": null,
      "metadata": {
        "id": "-EO7QC3OAfEu"
      },
      "outputs": [],
      "source": [
        "x=df.drop(['Label','Sample ID'], axis=1)\n",
        "y=df['Label']"
      ]
    },
    {
      "cell_type": "code",
      "execution_count": null,
      "metadata": {
        "colab": {
          "base_uri": "https://localhost:8080/"
        },
        "id": "Vp-cPwH3AfBc",
        "outputId": "1e58af7b-fdf1-4656-fe84-29e0b81c4166"
      },
      "outputs": [
        {
          "output_type": "stream",
          "name": "stdout",
          "text": [
            "Index(['Sample ID', 'Age', 'Label', 'Jitter (local)', 'Jitter ddp(%)',\n",
            "       'Shimmer local(%)', 'Shimmer dda(%)', 'Shimmer(dB)', 'Shimmer APQ3(%)',\n",
            "       'Shimmer APQ5(%)', 'Mean NHR', 'HNR(DB)', 'pitch', 'Intensity (Db)',\n",
            "       'Formant 1(HZ)', 'Formant 2(HZ)', 'Formant 3(HZ)', 'Formant 4(HZ)',\n",
            "       'CPPS(Db)', 'PPE', 'RPDE', 'MFCC1', 'MFCC2', 'MFCC3', 'MFCC4', 'MFCC5',\n",
            "       'MFCC6', 'MFCC7', 'MFCC8', 'MFCC9', 'MFCC10', 'MFCC11', 'MFCC12'],\n",
            "      dtype='object')\n"
          ]
        }
      ],
      "source": [
        "column_labels = df.columns\n",
        "print(column_labels)"
      ]
    },
    {
      "cell_type": "code",
      "execution_count": null,
      "metadata": {
        "colab": {
          "base_uri": "https://localhost:8080/",
          "height": 461
        },
        "id": "fxUE0nE0Ae-_",
        "outputId": "beb86a4c-0c14-47d1-f03c-5aefe037ce81"
      },
      "outputs": [
        {
          "output_type": "execute_result",
          "data": {
            "text/plain": [
              "    Age  Jitter (local)  Jitter ddp(%)  Shimmer local(%)  Shimmer dda(%)  \\\n",
              "0    69            0.41           0.61              3.89            6.57   \n",
              "1    43            0.59           0.95              9.03           14.00   \n",
              "2    18            0.51           0.87              4.74            7.86   \n",
              "3    28            0.46           0.76              5.62            8.94   \n",
              "4    68            0.44           0.62              7.37           11.96   \n",
              "..  ...             ...            ...               ...             ...   \n",
              "76   58            0.77           1.42              6.78           11.11   \n",
              "77   73            0.28           0.41              6.00            8.56   \n",
              "78   43            0.29           0.46              3.66            5.66   \n",
              "79   48            0.71           1.19              5.54            8.73   \n",
              "80   81            0.68           1.05              8.91           14.96   \n",
              "\n",
              "    Shimmer(dB)  Shimmer APQ3(%)  Shimmer APQ5(%)  Mean NHR  HNR(DB)  ...  \\\n",
              "0         0.340             2.19             2.58     0.008   21.500  ...   \n",
              "1         0.775             4.67             5.82     0.014   20.561  ...   \n",
              "2         0.414             2.62             3.29     0.006   26.308  ...   \n",
              "3         0.491             2.98             3.54     0.008   23.888  ...   \n",
              "4         0.628             3.99             4.89     0.019   18.184  ...   \n",
              "..          ...              ...              ...       ...      ...  ...   \n",
              "76        0.638             3.70             4.02     0.018   18.355  ...   \n",
              "77        0.502             2.85             3.73     0.022   19.252  ...   \n",
              "78        0.332             1.89             2.26     0.012   21.274  ...   \n",
              "79        0.478             2.91             3.46     0.023   21.175  ...   \n",
              "80        0.792             4.99             5.67     0.041   17.053  ...   \n",
              "\n",
              "         MFCC3      MFCC4      MFCC5      MFCC6      MFCC7      MFCC8  \\\n",
              "0   -96.438440 -27.956131  -5.374026 -48.672127  14.406999   2.435826   \n",
              "1   -70.111496 -24.304478   3.932895 -41.759540   3.259878   4.690951   \n",
              "2   -63.527317 -15.014873   2.571514 -36.723186  14.314400   8.136821   \n",
              "3   -79.562874  -9.637963   6.504622 -49.684498  13.514963   9.138590   \n",
              "4   -91.538510 -21.122873  -8.612599 -52.667625  25.749784  15.876921   \n",
              "..         ...        ...        ...        ...        ...        ...   \n",
              "76  -63.997684 -14.565191  -9.697307 -30.913168  30.623135   2.608398   \n",
              "77  -37.832832 -15.128313 -21.164091 -43.030582  18.717264  17.194056   \n",
              "78 -129.118940 -11.985052  37.213080 -30.257710   4.424608   2.395254   \n",
              "79  -51.670357  -1.850596   6.872439 -40.786450  10.706111   5.796264   \n",
              "80 -109.872430 -25.479158  -2.851035 -55.741840  24.133455  13.707381   \n",
              "\n",
              "        MFCC9     MFCC10     MFCC11     MFCC12  \n",
              "0  -33.177383  11.156488   5.229769  -6.708691  \n",
              "1  -23.609083   2.527178  -0.801593  -9.001701  \n",
              "2  -27.558716   1.453599  -1.727923 -18.760218  \n",
              "3  -31.739088   4.450940   3.487808  -8.733847  \n",
              "4  -40.066517   1.912060  10.494533  -9.673373  \n",
              "..        ...        ...        ...        ...  \n",
              "76 -37.540962   9.953406   3.327865 -18.424402  \n",
              "77 -24.741644  -2.701011   6.257259  -4.577129  \n",
              "78 -12.800766  20.276070 -17.045364 -35.685387  \n",
              "79 -33.073364  -6.447478  -1.034893  -2.229762  \n",
              "80 -40.729330   9.217450   9.718395 -17.869576  \n",
              "\n",
              "[81 rows x 31 columns]"
            ],
            "text/html": [
              "\n",
              "  <div id=\"df-0ea0a9c6-96a9-443a-bcb7-d01fba25787f\" class=\"colab-df-container\">\n",
              "    <div>\n",
              "<style scoped>\n",
              "    .dataframe tbody tr th:only-of-type {\n",
              "        vertical-align: middle;\n",
              "    }\n",
              "\n",
              "    .dataframe tbody tr th {\n",
              "        vertical-align: top;\n",
              "    }\n",
              "\n",
              "    .dataframe thead th {\n",
              "        text-align: right;\n",
              "    }\n",
              "</style>\n",
              "<table border=\"1\" class=\"dataframe\">\n",
              "  <thead>\n",
              "    <tr style=\"text-align: right;\">\n",
              "      <th></th>\n",
              "      <th>Age</th>\n",
              "      <th>Jitter (local)</th>\n",
              "      <th>Jitter ddp(%)</th>\n",
              "      <th>Shimmer local(%)</th>\n",
              "      <th>Shimmer dda(%)</th>\n",
              "      <th>Shimmer(dB)</th>\n",
              "      <th>Shimmer APQ3(%)</th>\n",
              "      <th>Shimmer APQ5(%)</th>\n",
              "      <th>Mean NHR</th>\n",
              "      <th>HNR(DB)</th>\n",
              "      <th>...</th>\n",
              "      <th>MFCC3</th>\n",
              "      <th>MFCC4</th>\n",
              "      <th>MFCC5</th>\n",
              "      <th>MFCC6</th>\n",
              "      <th>MFCC7</th>\n",
              "      <th>MFCC8</th>\n",
              "      <th>MFCC9</th>\n",
              "      <th>MFCC10</th>\n",
              "      <th>MFCC11</th>\n",
              "      <th>MFCC12</th>\n",
              "    </tr>\n",
              "  </thead>\n",
              "  <tbody>\n",
              "    <tr>\n",
              "      <th>0</th>\n",
              "      <td>69</td>\n",
              "      <td>0.41</td>\n",
              "      <td>0.61</td>\n",
              "      <td>3.89</td>\n",
              "      <td>6.57</td>\n",
              "      <td>0.340</td>\n",
              "      <td>2.19</td>\n",
              "      <td>2.58</td>\n",
              "      <td>0.008</td>\n",
              "      <td>21.500</td>\n",
              "      <td>...</td>\n",
              "      <td>-96.438440</td>\n",
              "      <td>-27.956131</td>\n",
              "      <td>-5.374026</td>\n",
              "      <td>-48.672127</td>\n",
              "      <td>14.406999</td>\n",
              "      <td>2.435826</td>\n",
              "      <td>-33.177383</td>\n",
              "      <td>11.156488</td>\n",
              "      <td>5.229769</td>\n",
              "      <td>-6.708691</td>\n",
              "    </tr>\n",
              "    <tr>\n",
              "      <th>1</th>\n",
              "      <td>43</td>\n",
              "      <td>0.59</td>\n",
              "      <td>0.95</td>\n",
              "      <td>9.03</td>\n",
              "      <td>14.00</td>\n",
              "      <td>0.775</td>\n",
              "      <td>4.67</td>\n",
              "      <td>5.82</td>\n",
              "      <td>0.014</td>\n",
              "      <td>20.561</td>\n",
              "      <td>...</td>\n",
              "      <td>-70.111496</td>\n",
              "      <td>-24.304478</td>\n",
              "      <td>3.932895</td>\n",
              "      <td>-41.759540</td>\n",
              "      <td>3.259878</td>\n",
              "      <td>4.690951</td>\n",
              "      <td>-23.609083</td>\n",
              "      <td>2.527178</td>\n",
              "      <td>-0.801593</td>\n",
              "      <td>-9.001701</td>\n",
              "    </tr>\n",
              "    <tr>\n",
              "      <th>2</th>\n",
              "      <td>18</td>\n",
              "      <td>0.51</td>\n",
              "      <td>0.87</td>\n",
              "      <td>4.74</td>\n",
              "      <td>7.86</td>\n",
              "      <td>0.414</td>\n",
              "      <td>2.62</td>\n",
              "      <td>3.29</td>\n",
              "      <td>0.006</td>\n",
              "      <td>26.308</td>\n",
              "      <td>...</td>\n",
              "      <td>-63.527317</td>\n",
              "      <td>-15.014873</td>\n",
              "      <td>2.571514</td>\n",
              "      <td>-36.723186</td>\n",
              "      <td>14.314400</td>\n",
              "      <td>8.136821</td>\n",
              "      <td>-27.558716</td>\n",
              "      <td>1.453599</td>\n",
              "      <td>-1.727923</td>\n",
              "      <td>-18.760218</td>\n",
              "    </tr>\n",
              "    <tr>\n",
              "      <th>3</th>\n",
              "      <td>28</td>\n",
              "      <td>0.46</td>\n",
              "      <td>0.76</td>\n",
              "      <td>5.62</td>\n",
              "      <td>8.94</td>\n",
              "      <td>0.491</td>\n",
              "      <td>2.98</td>\n",
              "      <td>3.54</td>\n",
              "      <td>0.008</td>\n",
              "      <td>23.888</td>\n",
              "      <td>...</td>\n",
              "      <td>-79.562874</td>\n",
              "      <td>-9.637963</td>\n",
              "      <td>6.504622</td>\n",
              "      <td>-49.684498</td>\n",
              "      <td>13.514963</td>\n",
              "      <td>9.138590</td>\n",
              "      <td>-31.739088</td>\n",
              "      <td>4.450940</td>\n",
              "      <td>3.487808</td>\n",
              "      <td>-8.733847</td>\n",
              "    </tr>\n",
              "    <tr>\n",
              "      <th>4</th>\n",
              "      <td>68</td>\n",
              "      <td>0.44</td>\n",
              "      <td>0.62</td>\n",
              "      <td>7.37</td>\n",
              "      <td>11.96</td>\n",
              "      <td>0.628</td>\n",
              "      <td>3.99</td>\n",
              "      <td>4.89</td>\n",
              "      <td>0.019</td>\n",
              "      <td>18.184</td>\n",
              "      <td>...</td>\n",
              "      <td>-91.538510</td>\n",
              "      <td>-21.122873</td>\n",
              "      <td>-8.612599</td>\n",
              "      <td>-52.667625</td>\n",
              "      <td>25.749784</td>\n",
              "      <td>15.876921</td>\n",
              "      <td>-40.066517</td>\n",
              "      <td>1.912060</td>\n",
              "      <td>10.494533</td>\n",
              "      <td>-9.673373</td>\n",
              "    </tr>\n",
              "    <tr>\n",
              "      <th>...</th>\n",
              "      <td>...</td>\n",
              "      <td>...</td>\n",
              "      <td>...</td>\n",
              "      <td>...</td>\n",
              "      <td>...</td>\n",
              "      <td>...</td>\n",
              "      <td>...</td>\n",
              "      <td>...</td>\n",
              "      <td>...</td>\n",
              "      <td>...</td>\n",
              "      <td>...</td>\n",
              "      <td>...</td>\n",
              "      <td>...</td>\n",
              "      <td>...</td>\n",
              "      <td>...</td>\n",
              "      <td>...</td>\n",
              "      <td>...</td>\n",
              "      <td>...</td>\n",
              "      <td>...</td>\n",
              "      <td>...</td>\n",
              "      <td>...</td>\n",
              "    </tr>\n",
              "    <tr>\n",
              "      <th>76</th>\n",
              "      <td>58</td>\n",
              "      <td>0.77</td>\n",
              "      <td>1.42</td>\n",
              "      <td>6.78</td>\n",
              "      <td>11.11</td>\n",
              "      <td>0.638</td>\n",
              "      <td>3.70</td>\n",
              "      <td>4.02</td>\n",
              "      <td>0.018</td>\n",
              "      <td>18.355</td>\n",
              "      <td>...</td>\n",
              "      <td>-63.997684</td>\n",
              "      <td>-14.565191</td>\n",
              "      <td>-9.697307</td>\n",
              "      <td>-30.913168</td>\n",
              "      <td>30.623135</td>\n",
              "      <td>2.608398</td>\n",
              "      <td>-37.540962</td>\n",
              "      <td>9.953406</td>\n",
              "      <td>3.327865</td>\n",
              "      <td>-18.424402</td>\n",
              "    </tr>\n",
              "    <tr>\n",
              "      <th>77</th>\n",
              "      <td>73</td>\n",
              "      <td>0.28</td>\n",
              "      <td>0.41</td>\n",
              "      <td>6.00</td>\n",
              "      <td>8.56</td>\n",
              "      <td>0.502</td>\n",
              "      <td>2.85</td>\n",
              "      <td>3.73</td>\n",
              "      <td>0.022</td>\n",
              "      <td>19.252</td>\n",
              "      <td>...</td>\n",
              "      <td>-37.832832</td>\n",
              "      <td>-15.128313</td>\n",
              "      <td>-21.164091</td>\n",
              "      <td>-43.030582</td>\n",
              "      <td>18.717264</td>\n",
              "      <td>17.194056</td>\n",
              "      <td>-24.741644</td>\n",
              "      <td>-2.701011</td>\n",
              "      <td>6.257259</td>\n",
              "      <td>-4.577129</td>\n",
              "    </tr>\n",
              "    <tr>\n",
              "      <th>78</th>\n",
              "      <td>43</td>\n",
              "      <td>0.29</td>\n",
              "      <td>0.46</td>\n",
              "      <td>3.66</td>\n",
              "      <td>5.66</td>\n",
              "      <td>0.332</td>\n",
              "      <td>1.89</td>\n",
              "      <td>2.26</td>\n",
              "      <td>0.012</td>\n",
              "      <td>21.274</td>\n",
              "      <td>...</td>\n",
              "      <td>-129.118940</td>\n",
              "      <td>-11.985052</td>\n",
              "      <td>37.213080</td>\n",
              "      <td>-30.257710</td>\n",
              "      <td>4.424608</td>\n",
              "      <td>2.395254</td>\n",
              "      <td>-12.800766</td>\n",
              "      <td>20.276070</td>\n",
              "      <td>-17.045364</td>\n",
              "      <td>-35.685387</td>\n",
              "    </tr>\n",
              "    <tr>\n",
              "      <th>79</th>\n",
              "      <td>48</td>\n",
              "      <td>0.71</td>\n",
              "      <td>1.19</td>\n",
              "      <td>5.54</td>\n",
              "      <td>8.73</td>\n",
              "      <td>0.478</td>\n",
              "      <td>2.91</td>\n",
              "      <td>3.46</td>\n",
              "      <td>0.023</td>\n",
              "      <td>21.175</td>\n",
              "      <td>...</td>\n",
              "      <td>-51.670357</td>\n",
              "      <td>-1.850596</td>\n",
              "      <td>6.872439</td>\n",
              "      <td>-40.786450</td>\n",
              "      <td>10.706111</td>\n",
              "      <td>5.796264</td>\n",
              "      <td>-33.073364</td>\n",
              "      <td>-6.447478</td>\n",
              "      <td>-1.034893</td>\n",
              "      <td>-2.229762</td>\n",
              "    </tr>\n",
              "    <tr>\n",
              "      <th>80</th>\n",
              "      <td>81</td>\n",
              "      <td>0.68</td>\n",
              "      <td>1.05</td>\n",
              "      <td>8.91</td>\n",
              "      <td>14.96</td>\n",
              "      <td>0.792</td>\n",
              "      <td>4.99</td>\n",
              "      <td>5.67</td>\n",
              "      <td>0.041</td>\n",
              "      <td>17.053</td>\n",
              "      <td>...</td>\n",
              "      <td>-109.872430</td>\n",
              "      <td>-25.479158</td>\n",
              "      <td>-2.851035</td>\n",
              "      <td>-55.741840</td>\n",
              "      <td>24.133455</td>\n",
              "      <td>13.707381</td>\n",
              "      <td>-40.729330</td>\n",
              "      <td>9.217450</td>\n",
              "      <td>9.718395</td>\n",
              "      <td>-17.869576</td>\n",
              "    </tr>\n",
              "  </tbody>\n",
              "</table>\n",
              "<p>81 rows × 31 columns</p>\n",
              "</div>\n",
              "    <div class=\"colab-df-buttons\">\n",
              "\n",
              "  <div class=\"colab-df-container\">\n",
              "    <button class=\"colab-df-convert\" onclick=\"convertToInteractive('df-0ea0a9c6-96a9-443a-bcb7-d01fba25787f')\"\n",
              "            title=\"Convert this dataframe to an interactive table.\"\n",
              "            style=\"display:none;\">\n",
              "\n",
              "  <svg xmlns=\"http://www.w3.org/2000/svg\" height=\"24px\" viewBox=\"0 -960 960 960\">\n",
              "    <path d=\"M120-120v-720h720v720H120Zm60-500h600v-160H180v160Zm220 220h160v-160H400v160Zm0 220h160v-160H400v160ZM180-400h160v-160H180v160Zm440 0h160v-160H620v160ZM180-180h160v-160H180v160Zm440 0h160v-160H620v160Z\"/>\n",
              "  </svg>\n",
              "    </button>\n",
              "\n",
              "  <style>\n",
              "    .colab-df-container {\n",
              "      display:flex;\n",
              "      gap: 12px;\n",
              "    }\n",
              "\n",
              "    .colab-df-convert {\n",
              "      background-color: #E8F0FE;\n",
              "      border: none;\n",
              "      border-radius: 50%;\n",
              "      cursor: pointer;\n",
              "      display: none;\n",
              "      fill: #1967D2;\n",
              "      height: 32px;\n",
              "      padding: 0 0 0 0;\n",
              "      width: 32px;\n",
              "    }\n",
              "\n",
              "    .colab-df-convert:hover {\n",
              "      background-color: #E2EBFA;\n",
              "      box-shadow: 0px 1px 2px rgba(60, 64, 67, 0.3), 0px 1px 3px 1px rgba(60, 64, 67, 0.15);\n",
              "      fill: #174EA6;\n",
              "    }\n",
              "\n",
              "    .colab-df-buttons div {\n",
              "      margin-bottom: 4px;\n",
              "    }\n",
              "\n",
              "    [theme=dark] .colab-df-convert {\n",
              "      background-color: #3B4455;\n",
              "      fill: #D2E3FC;\n",
              "    }\n",
              "\n",
              "    [theme=dark] .colab-df-convert:hover {\n",
              "      background-color: #434B5C;\n",
              "      box-shadow: 0px 1px 3px 1px rgba(0, 0, 0, 0.15);\n",
              "      filter: drop-shadow(0px 1px 2px rgba(0, 0, 0, 0.3));\n",
              "      fill: #FFFFFF;\n",
              "    }\n",
              "  </style>\n",
              "\n",
              "    <script>\n",
              "      const buttonEl =\n",
              "        document.querySelector('#df-0ea0a9c6-96a9-443a-bcb7-d01fba25787f button.colab-df-convert');\n",
              "      buttonEl.style.display =\n",
              "        google.colab.kernel.accessAllowed ? 'block' : 'none';\n",
              "\n",
              "      async function convertToInteractive(key) {\n",
              "        const element = document.querySelector('#df-0ea0a9c6-96a9-443a-bcb7-d01fba25787f');\n",
              "        const dataTable =\n",
              "          await google.colab.kernel.invokeFunction('convertToInteractive',\n",
              "                                                    [key], {});\n",
              "        if (!dataTable) return;\n",
              "\n",
              "        const docLinkHtml = 'Like what you see? Visit the ' +\n",
              "          '<a target=\"_blank\" href=https://colab.research.google.com/notebooks/data_table.ipynb>data table notebook</a>'\n",
              "          + ' to learn more about interactive tables.';\n",
              "        element.innerHTML = '';\n",
              "        dataTable['output_type'] = 'display_data';\n",
              "        await google.colab.output.renderOutput(dataTable, element);\n",
              "        const docLink = document.createElement('div');\n",
              "        docLink.innerHTML = docLinkHtml;\n",
              "        element.appendChild(docLink);\n",
              "      }\n",
              "    </script>\n",
              "  </div>\n",
              "\n",
              "\n",
              "    <div id=\"df-b15d1e45-d7d9-465c-8d36-8673ab322e47\">\n",
              "      <button class=\"colab-df-quickchart\" onclick=\"quickchart('df-b15d1e45-d7d9-465c-8d36-8673ab322e47')\"\n",
              "                title=\"Suggest charts\"\n",
              "                style=\"display:none;\">\n",
              "\n",
              "<svg xmlns=\"http://www.w3.org/2000/svg\" height=\"24px\"viewBox=\"0 0 24 24\"\n",
              "     width=\"24px\">\n",
              "    <g>\n",
              "        <path d=\"M19 3H5c-1.1 0-2 .9-2 2v14c0 1.1.9 2 2 2h14c1.1 0 2-.9 2-2V5c0-1.1-.9-2-2-2zM9 17H7v-7h2v7zm4 0h-2V7h2v10zm4 0h-2v-4h2v4z\"/>\n",
              "    </g>\n",
              "</svg>\n",
              "      </button>\n",
              "\n",
              "<style>\n",
              "  .colab-df-quickchart {\n",
              "      --bg-color: #E8F0FE;\n",
              "      --fill-color: #1967D2;\n",
              "      --hover-bg-color: #E2EBFA;\n",
              "      --hover-fill-color: #174EA6;\n",
              "      --disabled-fill-color: #AAA;\n",
              "      --disabled-bg-color: #DDD;\n",
              "  }\n",
              "\n",
              "  [theme=dark] .colab-df-quickchart {\n",
              "      --bg-color: #3B4455;\n",
              "      --fill-color: #D2E3FC;\n",
              "      --hover-bg-color: #434B5C;\n",
              "      --hover-fill-color: #FFFFFF;\n",
              "      --disabled-bg-color: #3B4455;\n",
              "      --disabled-fill-color: #666;\n",
              "  }\n",
              "\n",
              "  .colab-df-quickchart {\n",
              "    background-color: var(--bg-color);\n",
              "    border: none;\n",
              "    border-radius: 50%;\n",
              "    cursor: pointer;\n",
              "    display: none;\n",
              "    fill: var(--fill-color);\n",
              "    height: 32px;\n",
              "    padding: 0;\n",
              "    width: 32px;\n",
              "  }\n",
              "\n",
              "  .colab-df-quickchart:hover {\n",
              "    background-color: var(--hover-bg-color);\n",
              "    box-shadow: 0 1px 2px rgba(60, 64, 67, 0.3), 0 1px 3px 1px rgba(60, 64, 67, 0.15);\n",
              "    fill: var(--button-hover-fill-color);\n",
              "  }\n",
              "\n",
              "  .colab-df-quickchart-complete:disabled,\n",
              "  .colab-df-quickchart-complete:disabled:hover {\n",
              "    background-color: var(--disabled-bg-color);\n",
              "    fill: var(--disabled-fill-color);\n",
              "    box-shadow: none;\n",
              "  }\n",
              "\n",
              "  .colab-df-spinner {\n",
              "    border: 2px solid var(--fill-color);\n",
              "    border-color: transparent;\n",
              "    border-bottom-color: var(--fill-color);\n",
              "    animation:\n",
              "      spin 1s steps(1) infinite;\n",
              "  }\n",
              "\n",
              "  @keyframes spin {\n",
              "    0% {\n",
              "      border-color: transparent;\n",
              "      border-bottom-color: var(--fill-color);\n",
              "      border-left-color: var(--fill-color);\n",
              "    }\n",
              "    20% {\n",
              "      border-color: transparent;\n",
              "      border-left-color: var(--fill-color);\n",
              "      border-top-color: var(--fill-color);\n",
              "    }\n",
              "    30% {\n",
              "      border-color: transparent;\n",
              "      border-left-color: var(--fill-color);\n",
              "      border-top-color: var(--fill-color);\n",
              "      border-right-color: var(--fill-color);\n",
              "    }\n",
              "    40% {\n",
              "      border-color: transparent;\n",
              "      border-right-color: var(--fill-color);\n",
              "      border-top-color: var(--fill-color);\n",
              "    }\n",
              "    60% {\n",
              "      border-color: transparent;\n",
              "      border-right-color: var(--fill-color);\n",
              "    }\n",
              "    80% {\n",
              "      border-color: transparent;\n",
              "      border-right-color: var(--fill-color);\n",
              "      border-bottom-color: var(--fill-color);\n",
              "    }\n",
              "    90% {\n",
              "      border-color: transparent;\n",
              "      border-bottom-color: var(--fill-color);\n",
              "    }\n",
              "  }\n",
              "</style>\n",
              "\n",
              "      <script>\n",
              "        async function quickchart(key) {\n",
              "          const quickchartButtonEl =\n",
              "            document.querySelector('#' + key + ' button');\n",
              "          quickchartButtonEl.disabled = true;  // To prevent multiple clicks.\n",
              "          quickchartButtonEl.classList.add('colab-df-spinner');\n",
              "          try {\n",
              "            const charts = await google.colab.kernel.invokeFunction(\n",
              "                'suggestCharts', [key], {});\n",
              "          } catch (error) {\n",
              "            console.error('Error during call to suggestCharts:', error);\n",
              "          }\n",
              "          quickchartButtonEl.classList.remove('colab-df-spinner');\n",
              "          quickchartButtonEl.classList.add('colab-df-quickchart-complete');\n",
              "        }\n",
              "        (() => {\n",
              "          let quickchartButtonEl =\n",
              "            document.querySelector('#df-b15d1e45-d7d9-465c-8d36-8673ab322e47 button');\n",
              "          quickchartButtonEl.style.display =\n",
              "            google.colab.kernel.accessAllowed ? 'block' : 'none';\n",
              "        })();\n",
              "      </script>\n",
              "    </div>\n",
              "\n",
              "  <div id=\"id_b1cdcaaf-d999-402f-add1-b8e05cdaeca3\">\n",
              "    <style>\n",
              "      .colab-df-generate {\n",
              "        background-color: #E8F0FE;\n",
              "        border: none;\n",
              "        border-radius: 50%;\n",
              "        cursor: pointer;\n",
              "        display: none;\n",
              "        fill: #1967D2;\n",
              "        height: 32px;\n",
              "        padding: 0 0 0 0;\n",
              "        width: 32px;\n",
              "      }\n",
              "\n",
              "      .colab-df-generate:hover {\n",
              "        background-color: #E2EBFA;\n",
              "        box-shadow: 0px 1px 2px rgba(60, 64, 67, 0.3), 0px 1px 3px 1px rgba(60, 64, 67, 0.15);\n",
              "        fill: #174EA6;\n",
              "      }\n",
              "\n",
              "      [theme=dark] .colab-df-generate {\n",
              "        background-color: #3B4455;\n",
              "        fill: #D2E3FC;\n",
              "      }\n",
              "\n",
              "      [theme=dark] .colab-df-generate:hover {\n",
              "        background-color: #434B5C;\n",
              "        box-shadow: 0px 1px 3px 1px rgba(0, 0, 0, 0.15);\n",
              "        filter: drop-shadow(0px 1px 2px rgba(0, 0, 0, 0.3));\n",
              "        fill: #FFFFFF;\n",
              "      }\n",
              "    </style>\n",
              "    <button class=\"colab-df-generate\" onclick=\"generateWithVariable('x')\"\n",
              "            title=\"Generate code using this dataframe.\"\n",
              "            style=\"display:none;\">\n",
              "\n",
              "  <svg xmlns=\"http://www.w3.org/2000/svg\" height=\"24px\"viewBox=\"0 0 24 24\"\n",
              "       width=\"24px\">\n",
              "    <path d=\"M7,19H8.4L18.45,9,17,7.55,7,17.6ZM5,21V16.75L18.45,3.32a2,2,0,0,1,2.83,0l1.4,1.43a1.91,1.91,0,0,1,.58,1.4,1.91,1.91,0,0,1-.58,1.4L9.25,21ZM18.45,9,17,7.55Zm-12,3A5.31,5.31,0,0,0,4.9,8.1,5.31,5.31,0,0,0,1,6.5,5.31,5.31,0,0,0,4.9,4.9,5.31,5.31,0,0,0,6.5,1,5.31,5.31,0,0,0,8.1,4.9,5.31,5.31,0,0,0,12,6.5,5.46,5.46,0,0,0,6.5,12Z\"/>\n",
              "  </svg>\n",
              "    </button>\n",
              "    <script>\n",
              "      (() => {\n",
              "      const buttonEl =\n",
              "        document.querySelector('#id_b1cdcaaf-d999-402f-add1-b8e05cdaeca3 button.colab-df-generate');\n",
              "      buttonEl.style.display =\n",
              "        google.colab.kernel.accessAllowed ? 'block' : 'none';\n",
              "\n",
              "      buttonEl.onclick = () => {\n",
              "        google.colab.notebook.generateWithVariable('x');\n",
              "      }\n",
              "      })();\n",
              "    </script>\n",
              "  </div>\n",
              "\n",
              "    </div>\n",
              "  </div>\n"
            ],
            "application/vnd.google.colaboratory.intrinsic+json": {
              "type": "dataframe",
              "variable_name": "x"
            }
          },
          "metadata": {},
          "execution_count": 179
        }
      ],
      "source": [
        "x"
      ]
    },
    {
      "cell_type": "code",
      "execution_count": null,
      "metadata": {
        "colab": {
          "base_uri": "https://localhost:8080/",
          "height": 458
        },
        "id": "KED3clvTAe8R",
        "outputId": "568ab3a2-cef9-45b0-9f86-5a20c8b84395"
      },
      "outputs": [
        {
          "output_type": "execute_result",
          "data": {
            "text/plain": [
              "0     0\n",
              "1     0\n",
              "2     0\n",
              "3     0\n",
              "4     0\n",
              "     ..\n",
              "76    1\n",
              "77    1\n",
              "78    1\n",
              "79    1\n",
              "80    1\n",
              "Name: Label, Length: 81, dtype: int64"
            ],
            "text/html": [
              "<div>\n",
              "<style scoped>\n",
              "    .dataframe tbody tr th:only-of-type {\n",
              "        vertical-align: middle;\n",
              "    }\n",
              "\n",
              "    .dataframe tbody tr th {\n",
              "        vertical-align: top;\n",
              "    }\n",
              "\n",
              "    .dataframe thead th {\n",
              "        text-align: right;\n",
              "    }\n",
              "</style>\n",
              "<table border=\"1\" class=\"dataframe\">\n",
              "  <thead>\n",
              "    <tr style=\"text-align: right;\">\n",
              "      <th></th>\n",
              "      <th>Label</th>\n",
              "    </tr>\n",
              "  </thead>\n",
              "  <tbody>\n",
              "    <tr>\n",
              "      <th>0</th>\n",
              "      <td>0</td>\n",
              "    </tr>\n",
              "    <tr>\n",
              "      <th>1</th>\n",
              "      <td>0</td>\n",
              "    </tr>\n",
              "    <tr>\n",
              "      <th>2</th>\n",
              "      <td>0</td>\n",
              "    </tr>\n",
              "    <tr>\n",
              "      <th>3</th>\n",
              "      <td>0</td>\n",
              "    </tr>\n",
              "    <tr>\n",
              "      <th>4</th>\n",
              "      <td>0</td>\n",
              "    </tr>\n",
              "    <tr>\n",
              "      <th>...</th>\n",
              "      <td>...</td>\n",
              "    </tr>\n",
              "    <tr>\n",
              "      <th>76</th>\n",
              "      <td>1</td>\n",
              "    </tr>\n",
              "    <tr>\n",
              "      <th>77</th>\n",
              "      <td>1</td>\n",
              "    </tr>\n",
              "    <tr>\n",
              "      <th>78</th>\n",
              "      <td>1</td>\n",
              "    </tr>\n",
              "    <tr>\n",
              "      <th>79</th>\n",
              "      <td>1</td>\n",
              "    </tr>\n",
              "    <tr>\n",
              "      <th>80</th>\n",
              "      <td>1</td>\n",
              "    </tr>\n",
              "  </tbody>\n",
              "</table>\n",
              "<p>81 rows × 1 columns</p>\n",
              "</div><br><label><b>dtype:</b> int64</label>"
            ]
          },
          "metadata": {},
          "execution_count": 180
        }
      ],
      "source": [
        "y"
      ]
    },
    {
      "cell_type": "code",
      "execution_count": null,
      "metadata": {
        "id": "9JJ-94dJAe5S"
      },
      "outputs": [],
      "source": [
        "x=np.array(x)\n",
        "y=np.array(y)"
      ]
    },
    {
      "cell_type": "code",
      "execution_count": null,
      "metadata": {
        "colab": {
          "base_uri": "https://localhost:8080/"
        },
        "id": "dkgwZkP6Ae2Q",
        "outputId": "20ff92ff-a47b-4677-b2e1-3a825a391e54"
      },
      "outputs": [
        {
          "output_type": "execute_result",
          "data": {
            "text/plain": [
              "array([[ 69.        ,   0.41      ,   0.61      , ...,  11.156488  ,\n",
              "          5.2297688 ,  -6.7086906 ],\n",
              "       [ 43.        ,   0.59      ,   0.95      , ...,   2.5271783 ,\n",
              "         -0.80159277,  -9.001701  ],\n",
              "       [ 18.        ,   0.51      ,   0.87      , ...,   1.4535992 ,\n",
              "         -1.7279235 , -18.760218  ],\n",
              "       ...,\n",
              "       [ 43.        ,   0.29      ,   0.46      , ...,  20.27607   ,\n",
              "        -17.045364  , -35.685387  ],\n",
              "       [ 48.        ,   0.71      ,   1.19      , ...,  -6.4474783 ,\n",
              "         -1.0348926 ,  -2.229762  ],\n",
              "       [ 81.        ,   0.68      ,   1.05      , ...,   9.21745   ,\n",
              "          9.718395  , -17.869576  ]])"
            ]
          },
          "metadata": {},
          "execution_count": 182
        }
      ],
      "source": [
        "x"
      ]
    },
    {
      "cell_type": "code",
      "execution_count": null,
      "metadata": {
        "colab": {
          "base_uri": "https://localhost:8080/"
        },
        "id": "ba1uACc2Aey8",
        "outputId": "d0c6b177-6615-4040-b52e-c404be70148d"
      },
      "outputs": [
        {
          "output_type": "execute_result",
          "data": {
            "text/plain": [
              "array([0, 0, 0, 0, 0, 0, 0, 0, 0, 0, 0, 0, 0, 0, 0, 0, 0, 0, 0, 0, 0, 0,\n",
              "       0, 0, 0, 0, 0, 0, 0, 0, 0, 0, 0, 0, 0, 0, 0, 0, 0, 0, 0, 1, 1, 1,\n",
              "       1, 1, 1, 1, 1, 1, 1, 1, 1, 1, 1, 1, 1, 1, 1, 1, 1, 1, 1, 1, 1, 1,\n",
              "       1, 1, 1, 1, 1, 1, 1, 1, 1, 1, 1, 1, 1, 1, 1])"
            ]
          },
          "metadata": {},
          "execution_count": 183
        }
      ],
      "source": [
        "y"
      ]
    },
    {
      "cell_type": "code",
      "execution_count": null,
      "metadata": {
        "id": "HLTzLqUZBP0Z"
      },
      "outputs": [],
      "source": [
        "from sklearn.preprocessing import StandardScaler\n",
        "scalor=StandardScaler()\n",
        "x=scalor.fit_transform(x)"
      ]
    },
    {
      "cell_type": "code",
      "execution_count": null,
      "metadata": {
        "colab": {
          "base_uri": "https://localhost:8080/"
        },
        "id": "9Z7Aa4WPBPxt",
        "outputId": "8d99da46-3423-4f87-b1bd-cddb34f15572"
      },
      "outputs": [
        {
          "output_type": "execute_result",
          "data": {
            "text/plain": [
              "array([[ 0.76593304, -0.48676333, -0.51033512, ...,  0.69212573,\n",
              "         0.51453696,  0.99554367],\n",
              "       [-0.93380877, -0.0777138 , -0.07601407, ..., -0.44660385,\n",
              "        -0.49315427,  0.71871342],\n",
              "       [-2.5681759 , -0.25951359, -0.17820726, ..., -0.58827408,\n",
              "        -0.64792121, -0.45941146],\n",
              "       ...,\n",
              "       [-0.93380877, -0.75946302, -0.70194734, ...,  1.89555197,\n",
              "        -3.2070864 , -2.50275092],\n",
              "       [-0.60693535,  0.19498589,  0.23056549, ..., -1.63090564,\n",
              "        -0.5321329 ,  1.53627514],\n",
              "       [ 1.55042926,  0.12681097,  0.05172742, ...,  0.43624895,\n",
              "         1.2644753 , -0.35188616]])"
            ]
          },
          "metadata": {},
          "execution_count": 185
        }
      ],
      "source": [
        "x"
      ]
    },
    {
      "cell_type": "code",
      "execution_count": null,
      "metadata": {
        "colab": {
          "base_uri": "https://localhost:8080/"
        },
        "id": "q2pxojtsBPtx",
        "outputId": "6516772a-518c-408c-8f7c-57ee59378c88"
      },
      "outputs": [
        {
          "output_type": "execute_result",
          "data": {
            "text/plain": [
              "array([0, 0, 0, 0, 0, 0, 0, 0, 0, 0, 0, 0, 0, 0, 0, 0, 0, 0, 0, 0, 0, 0,\n",
              "       0, 0, 0, 0, 0, 0, 0, 0, 0, 0, 0, 0, 0, 0, 0, 0, 0, 0, 0, 1, 1, 1,\n",
              "       1, 1, 1, 1, 1, 1, 1, 1, 1, 1, 1, 1, 1, 1, 1, 1, 1, 1, 1, 1, 1, 1,\n",
              "       1, 1, 1, 1, 1, 1, 1, 1, 1, 1, 1, 1, 1, 1, 1])"
            ]
          },
          "metadata": {},
          "execution_count": 186
        }
      ],
      "source": [
        "y"
      ]
    },
    {
      "cell_type": "code",
      "execution_count": null,
      "metadata": {
        "colab": {
          "base_uri": "https://localhost:8080/"
        },
        "id": "FM9oJMi60X11",
        "outputId": "73933916-944c-4214-bcbc-da21df84d121"
      },
      "outputs": [
        {
          "output_type": "execute_result",
          "data": {
            "text/plain": [
              "[{'Feature': 'Age',\n",
              "  'T-Statistic': np.float64(-7.292324458358657),\n",
              "  'P-Value': np.float64(4.3348912939106005e-10)},\n",
              " {'Feature': 'Jitter (local)',\n",
              "  'T-Statistic': np.float64(1.4859348377448929),\n",
              "  'P-Value': np.float64(0.1425029961908492)},\n",
              " {'Feature': 'Jitter ddp(%)',\n",
              "  'T-Statistic': np.float64(1.420944726853142),\n",
              "  'P-Value': np.float64(0.16043104077858958)},\n",
              " {'Feature': 'Shimmer local(%)',\n",
              "  'T-Statistic': np.float64(0.820422980547738),\n",
              "  'P-Value': np.float64(0.4147443919771773)},\n",
              " {'Feature': 'Shimmer dda(%)',\n",
              "  'T-Statistic': np.float64(0.9812093226399072),\n",
              "  'P-Value': np.float64(0.32978396993770975)},\n",
              " {'Feature': 'Shimmer(dB)',\n",
              "  'T-Statistic': np.float64(1.287602780043061),\n",
              "  'P-Value': np.float64(0.20456359657294543)},\n",
              " {'Feature': 'Shimmer APQ3(%)',\n",
              "  'T-Statistic': np.float64(0.9787946767793186),\n",
              "  'P-Value': np.float64(0.3309677292506533)},\n",
              " {'Feature': 'Shimmer APQ5(%)',\n",
              "  'T-Statistic': np.float64(1.171586898965528),\n",
              "  'P-Value': np.float64(0.2453473404230015)},\n",
              " {'Feature': 'Mean NHR',\n",
              "  'T-Statistic': np.float64(-0.10508972857190949),\n",
              "  'P-Value': np.float64(0.9166037714430355)},\n",
              " {'Feature': 'HNR(DB)',\n",
              "  'T-Statistic': np.float64(0.9431094754133038),\n",
              "  'P-Value': np.float64(0.34879385684141195)},\n",
              " {'Feature': 'pitch',\n",
              "  'T-Statistic': np.float64(-2.3923410180061775),\n",
              "  'P-Value': np.float64(0.019117279558864476)},\n",
              " {'Feature': 'Intensity (Db)',\n",
              "  'T-Statistic': np.float64(0.8509824167370323),\n",
              "  'P-Value': np.float64(0.3995238347364162)},\n",
              " {'Feature': 'Formant 1(HZ)',\n",
              "  'T-Statistic': np.float64(0.30860126297970625),\n",
              "  'P-Value': np.float64(0.7584587829207109)},\n",
              " {'Feature': 'Formant 2(HZ)',\n",
              "  'T-Statistic': np.float64(-0.3313888885481799),\n",
              "  'P-Value': np.float64(0.7412310278233174)},\n",
              " {'Feature': 'Formant 3(HZ)',\n",
              "  'T-Statistic': np.float64(-0.8641882413458402),\n",
              "  'P-Value': np.float64(0.39011972623803903)},\n",
              " {'Feature': 'Formant 4(HZ)',\n",
              "  'T-Statistic': np.float64(-3.0017549955015563),\n",
              "  'P-Value': np.float64(0.003614665377574096)},\n",
              " {'Feature': 'CPPS(Db)',\n",
              "  'T-Statistic': np.float64(2.7834539068116517),\n",
              "  'P-Value': np.float64(0.006803795472257577)},\n",
              " {'Feature': 'PPE',\n",
              "  'T-Statistic': np.float64(-1.2828268580945614),\n",
              "  'P-Value': np.float64(0.20380966149849292)},\n",
              " {'Feature': 'RPDE',\n",
              "  'T-Statistic': np.float64(0.5267610521748967),\n",
              "  'P-Value': np.float64(0.5998428677531681)},\n",
              " {'Feature': 'MFCC1',\n",
              "  'T-Statistic': np.float64(0.8944579647234207),\n",
              "  'P-Value': np.float64(0.3743973376399471)},\n",
              " {'Feature': 'MFCC2',\n",
              "  'T-Statistic': np.float64(4.602583145303229),\n",
              "  'P-Value': np.float64(1.5719548069320077e-05)},\n",
              " {'Feature': 'MFCC3',\n",
              "  'T-Statistic': np.float64(-1.5831491276861496),\n",
              "  'P-Value': np.float64(0.11743931446569587)},\n",
              " {'Feature': 'MFCC4',\n",
              "  'T-Statistic': np.float64(-1.7092895759849536),\n",
              "  'P-Value': np.float64(0.091480418051336)},\n",
              " {'Feature': 'MFCC5',\n",
              "  'T-Statistic': np.float64(0.22246064770629198),\n",
              "  'P-Value': np.float64(0.8245422242022009)},\n",
              " {'Feature': 'MFCC6',\n",
              "  'T-Statistic': np.float64(-0.7312941153851814),\n",
              "  'P-Value': np.float64(0.4670165520218773)},\n",
              " {'Feature': 'MFCC7',\n",
              "  'T-Statistic': np.float64(-0.037170913064102064),\n",
              "  'P-Value': np.float64(0.9704479456058313)},\n",
              " {'Feature': 'MFCC8',\n",
              "  'T-Statistic': np.float64(-0.009132209540258479),\n",
              "  'P-Value': np.float64(0.9927370018872199)},\n",
              " {'Feature': 'MFCC9',\n",
              "  'T-Statistic': np.float64(-0.9141668820453577),\n",
              "  'P-Value': np.float64(0.3634229258621001)},\n",
              " {'Feature': 'MFCC10',\n",
              "  'T-Statistic': np.float64(0.4853574187079508),\n",
              "  'P-Value': np.float64(0.6287668540573916)},\n",
              " {'Feature': 'MFCC11',\n",
              "  'T-Statistic': np.float64(0.3894181318120318),\n",
              "  'P-Value': np.float64(0.6980146940492635)},\n",
              " {'Feature': 'MFCC12',\n",
              "  'T-Statistic': np.float64(-0.8683967418435826),\n",
              "  'P-Value': np.float64(0.3878127626384219)}]"
            ]
          },
          "metadata": {},
          "execution_count": 187
        }
      ],
      "source": [
        "x=df.drop(['Label','Sample ID'],axis=1)\n",
        "y=df['Label']\n",
        "\n",
        "# Split data into two groups based on the label (0: Healthy, 1: Parkinson)\n",
        "healthy_group = x[df['Label'] == 0]\n",
        "parkinson_group = x[df['Label'] == 1]\n",
        "\n",
        "# Perform t-test for each feature\n",
        "t_test_results = []\n",
        "for column in x.columns:\n",
        "    t_stat, p_value = ttest_ind(healthy_group[column], parkinson_group[column], equal_var=False)\n",
        "    t_test_results.append({\"Feature\": column, \"T-Statistic\": t_stat, \"P-Value\": p_value})\n",
        "\n",
        "# Convert results to a DataFrame\n",
        "t_test_results_df = pd.DataFrame(t_test_results)\n",
        "\n",
        "# Sort features by p-value (ascending) to identify the most significant features\n",
        "t_test_results_df = t_test_results_df.sort_values(by=\"P-Value\")\n",
        "\n",
        "# Display top results\n",
        "#t_test_results_df.head()\n",
        "t_test_results\n"
      ]
    },
    {
      "cell_type": "code",
      "execution_count": null,
      "metadata": {
        "id": "AF543tnMBPqn"
      },
      "outputs": [],
      "source": [
        "from sklearn.model_selection import train_test_split\n",
        "x_train,x_test,y_train,y_test=train_test_split(x,y,test_size=0.2)"
      ]
    },
    {
      "cell_type": "code",
      "execution_count": null,
      "metadata": {
        "colab": {
          "base_uri": "https://localhost:8080/"
        },
        "id": "V9GCyTzPBYx-",
        "outputId": "2b6f0ab6-d0d3-431a-8f36-219f09b8808b"
      },
      "outputs": [
        {
          "output_type": "execute_result",
          "data": {
            "text/plain": [
              "((64, 31), (64,))"
            ]
          },
          "metadata": {},
          "execution_count": 189
        }
      ],
      "source": [
        "x_train.shape,y_train.shape"
      ]
    },
    {
      "cell_type": "code",
      "execution_count": null,
      "metadata": {
        "colab": {
          "base_uri": "https://localhost:8080/"
        },
        "id": "JjOfjjKoBazL",
        "outputId": "c48901f8-bbaf-4752-e3ff-6e833f9adc1a"
      },
      "outputs": [
        {
          "output_type": "execute_result",
          "data": {
            "text/plain": [
              "((17, 31), (17,))"
            ]
          },
          "metadata": {},
          "execution_count": 190
        }
      ],
      "source": [
        "x_test.shape,y_test.shape"
      ]
    },
    {
      "cell_type": "code",
      "execution_count": null,
      "metadata": {
        "id": "HDW1gUBUBavJ"
      },
      "outputs": [],
      "source": [
        "from sklearn.model_selection import cross_val_score"
      ]
    },
    {
      "cell_type": "code",
      "execution_count": null,
      "metadata": {
        "id": "3KMps9bFBdW3"
      },
      "outputs": [],
      "source": [
        "n_split=5\n",
        "from sklearn.model_selection import StratifiedKFold\n",
        "\n",
        "from sklearn.metrics import accuracy_score\n",
        "from sklearn.metrics import recall_score\n",
        "from sklearn.metrics import precision_score\n",
        "from sklearn.metrics import f1_score\n",
        "from sklearn.metrics import roc_auc_score\n",
        "from sklearn.metrics import confusion_matrix\n",
        "from sklearn.metrics import mean_squared_error\n",
        "from sklearn.metrics import log_loss\n",
        "kf=StratifiedKFold(n_splits=n_split,shuffle=True)"
      ]
    },
    {
      "cell_type": "markdown",
      "metadata": {
        "id": "abAHOC9UBk05"
      },
      "source": [
        "# models"
      ]
    },
    {
      "cell_type": "markdown",
      "metadata": {
        "id": "cW_kh6HqDHJv"
      },
      "source": [
        "## Random forest"
      ]
    },
    {
      "cell_type": "code",
      "execution_count": null,
      "metadata": {
        "colab": {
          "base_uri": "https://localhost:8080/",
          "height": 80
        },
        "id": "2_JCioXGBdUB",
        "outputId": "eb02ce89-b078-48fc-a378-8fbe0f5d82d0"
      },
      "outputs": [
        {
          "output_type": "execute_result",
          "data": {
            "text/plain": [
              "RandomForestClassifier(max_depth=10, n_estimators=200)"
            ],
            "text/html": [
              "<style>#sk-container-id-8 {\n",
              "  /* Definition of color scheme common for light and dark mode */\n",
              "  --sklearn-color-text: #000;\n",
              "  --sklearn-color-text-muted: #666;\n",
              "  --sklearn-color-line: gray;\n",
              "  /* Definition of color scheme for unfitted estimators */\n",
              "  --sklearn-color-unfitted-level-0: #fff5e6;\n",
              "  --sklearn-color-unfitted-level-1: #f6e4d2;\n",
              "  --sklearn-color-unfitted-level-2: #ffe0b3;\n",
              "  --sklearn-color-unfitted-level-3: chocolate;\n",
              "  /* Definition of color scheme for fitted estimators */\n",
              "  --sklearn-color-fitted-level-0: #f0f8ff;\n",
              "  --sklearn-color-fitted-level-1: #d4ebff;\n",
              "  --sklearn-color-fitted-level-2: #b3dbfd;\n",
              "  --sklearn-color-fitted-level-3: cornflowerblue;\n",
              "\n",
              "  /* Specific color for light theme */\n",
              "  --sklearn-color-text-on-default-background: var(--sg-text-color, var(--theme-code-foreground, var(--jp-content-font-color1, black)));\n",
              "  --sklearn-color-background: var(--sg-background-color, var(--theme-background, var(--jp-layout-color0, white)));\n",
              "  --sklearn-color-border-box: var(--sg-text-color, var(--theme-code-foreground, var(--jp-content-font-color1, black)));\n",
              "  --sklearn-color-icon: #696969;\n",
              "\n",
              "  @media (prefers-color-scheme: dark) {\n",
              "    /* Redefinition of color scheme for dark theme */\n",
              "    --sklearn-color-text-on-default-background: var(--sg-text-color, var(--theme-code-foreground, var(--jp-content-font-color1, white)));\n",
              "    --sklearn-color-background: var(--sg-background-color, var(--theme-background, var(--jp-layout-color0, #111)));\n",
              "    --sklearn-color-border-box: var(--sg-text-color, var(--theme-code-foreground, var(--jp-content-font-color1, white)));\n",
              "    --sklearn-color-icon: #878787;\n",
              "  }\n",
              "}\n",
              "\n",
              "#sk-container-id-8 {\n",
              "  color: var(--sklearn-color-text);\n",
              "}\n",
              "\n",
              "#sk-container-id-8 pre {\n",
              "  padding: 0;\n",
              "}\n",
              "\n",
              "#sk-container-id-8 input.sk-hidden--visually {\n",
              "  border: 0;\n",
              "  clip: rect(1px 1px 1px 1px);\n",
              "  clip: rect(1px, 1px, 1px, 1px);\n",
              "  height: 1px;\n",
              "  margin: -1px;\n",
              "  overflow: hidden;\n",
              "  padding: 0;\n",
              "  position: absolute;\n",
              "  width: 1px;\n",
              "}\n",
              "\n",
              "#sk-container-id-8 div.sk-dashed-wrapped {\n",
              "  border: 1px dashed var(--sklearn-color-line);\n",
              "  margin: 0 0.4em 0.5em 0.4em;\n",
              "  box-sizing: border-box;\n",
              "  padding-bottom: 0.4em;\n",
              "  background-color: var(--sklearn-color-background);\n",
              "}\n",
              "\n",
              "#sk-container-id-8 div.sk-container {\n",
              "  /* jupyter's `normalize.less` sets `[hidden] { display: none; }`\n",
              "     but bootstrap.min.css set `[hidden] { display: none !important; }`\n",
              "     so we also need the `!important` here to be able to override the\n",
              "     default hidden behavior on the sphinx rendered scikit-learn.org.\n",
              "     See: https://github.com/scikit-learn/scikit-learn/issues/21755 */\n",
              "  display: inline-block !important;\n",
              "  position: relative;\n",
              "}\n",
              "\n",
              "#sk-container-id-8 div.sk-text-repr-fallback {\n",
              "  display: none;\n",
              "}\n",
              "\n",
              "div.sk-parallel-item,\n",
              "div.sk-serial,\n",
              "div.sk-item {\n",
              "  /* draw centered vertical line to link estimators */\n",
              "  background-image: linear-gradient(var(--sklearn-color-text-on-default-background), var(--sklearn-color-text-on-default-background));\n",
              "  background-size: 2px 100%;\n",
              "  background-repeat: no-repeat;\n",
              "  background-position: center center;\n",
              "}\n",
              "\n",
              "/* Parallel-specific style estimator block */\n",
              "\n",
              "#sk-container-id-8 div.sk-parallel-item::after {\n",
              "  content: \"\";\n",
              "  width: 100%;\n",
              "  border-bottom: 2px solid var(--sklearn-color-text-on-default-background);\n",
              "  flex-grow: 1;\n",
              "}\n",
              "\n",
              "#sk-container-id-8 div.sk-parallel {\n",
              "  display: flex;\n",
              "  align-items: stretch;\n",
              "  justify-content: center;\n",
              "  background-color: var(--sklearn-color-background);\n",
              "  position: relative;\n",
              "}\n",
              "\n",
              "#sk-container-id-8 div.sk-parallel-item {\n",
              "  display: flex;\n",
              "  flex-direction: column;\n",
              "}\n",
              "\n",
              "#sk-container-id-8 div.sk-parallel-item:first-child::after {\n",
              "  align-self: flex-end;\n",
              "  width: 50%;\n",
              "}\n",
              "\n",
              "#sk-container-id-8 div.sk-parallel-item:last-child::after {\n",
              "  align-self: flex-start;\n",
              "  width: 50%;\n",
              "}\n",
              "\n",
              "#sk-container-id-8 div.sk-parallel-item:only-child::after {\n",
              "  width: 0;\n",
              "}\n",
              "\n",
              "/* Serial-specific style estimator block */\n",
              "\n",
              "#sk-container-id-8 div.sk-serial {\n",
              "  display: flex;\n",
              "  flex-direction: column;\n",
              "  align-items: center;\n",
              "  background-color: var(--sklearn-color-background);\n",
              "  padding-right: 1em;\n",
              "  padding-left: 1em;\n",
              "}\n",
              "\n",
              "\n",
              "/* Toggleable style: style used for estimator/Pipeline/ColumnTransformer box that is\n",
              "clickable and can be expanded/collapsed.\n",
              "- Pipeline and ColumnTransformer use this feature and define the default style\n",
              "- Estimators will overwrite some part of the style using the `sk-estimator` class\n",
              "*/\n",
              "\n",
              "/* Pipeline and ColumnTransformer style (default) */\n",
              "\n",
              "#sk-container-id-8 div.sk-toggleable {\n",
              "  /* Default theme specific background. It is overwritten whether we have a\n",
              "  specific estimator or a Pipeline/ColumnTransformer */\n",
              "  background-color: var(--sklearn-color-background);\n",
              "}\n",
              "\n",
              "/* Toggleable label */\n",
              "#sk-container-id-8 label.sk-toggleable__label {\n",
              "  cursor: pointer;\n",
              "  display: flex;\n",
              "  width: 100%;\n",
              "  margin-bottom: 0;\n",
              "  padding: 0.5em;\n",
              "  box-sizing: border-box;\n",
              "  text-align: center;\n",
              "  align-items: start;\n",
              "  justify-content: space-between;\n",
              "  gap: 0.5em;\n",
              "}\n",
              "\n",
              "#sk-container-id-8 label.sk-toggleable__label .caption {\n",
              "  font-size: 0.6rem;\n",
              "  font-weight: lighter;\n",
              "  color: var(--sklearn-color-text-muted);\n",
              "}\n",
              "\n",
              "#sk-container-id-8 label.sk-toggleable__label-arrow:before {\n",
              "  /* Arrow on the left of the label */\n",
              "  content: \"▸\";\n",
              "  float: left;\n",
              "  margin-right: 0.25em;\n",
              "  color: var(--sklearn-color-icon);\n",
              "}\n",
              "\n",
              "#sk-container-id-8 label.sk-toggleable__label-arrow:hover:before {\n",
              "  color: var(--sklearn-color-text);\n",
              "}\n",
              "\n",
              "/* Toggleable content - dropdown */\n",
              "\n",
              "#sk-container-id-8 div.sk-toggleable__content {\n",
              "  max-height: 0;\n",
              "  max-width: 0;\n",
              "  overflow: hidden;\n",
              "  text-align: left;\n",
              "  /* unfitted */\n",
              "  background-color: var(--sklearn-color-unfitted-level-0);\n",
              "}\n",
              "\n",
              "#sk-container-id-8 div.sk-toggleable__content.fitted {\n",
              "  /* fitted */\n",
              "  background-color: var(--sklearn-color-fitted-level-0);\n",
              "}\n",
              "\n",
              "#sk-container-id-8 div.sk-toggleable__content pre {\n",
              "  margin: 0.2em;\n",
              "  border-radius: 0.25em;\n",
              "  color: var(--sklearn-color-text);\n",
              "  /* unfitted */\n",
              "  background-color: var(--sklearn-color-unfitted-level-0);\n",
              "}\n",
              "\n",
              "#sk-container-id-8 div.sk-toggleable__content.fitted pre {\n",
              "  /* unfitted */\n",
              "  background-color: var(--sklearn-color-fitted-level-0);\n",
              "}\n",
              "\n",
              "#sk-container-id-8 input.sk-toggleable__control:checked~div.sk-toggleable__content {\n",
              "  /* Expand drop-down */\n",
              "  max-height: 200px;\n",
              "  max-width: 100%;\n",
              "  overflow: auto;\n",
              "}\n",
              "\n",
              "#sk-container-id-8 input.sk-toggleable__control:checked~label.sk-toggleable__label-arrow:before {\n",
              "  content: \"▾\";\n",
              "}\n",
              "\n",
              "/* Pipeline/ColumnTransformer-specific style */\n",
              "\n",
              "#sk-container-id-8 div.sk-label input.sk-toggleable__control:checked~label.sk-toggleable__label {\n",
              "  color: var(--sklearn-color-text);\n",
              "  background-color: var(--sklearn-color-unfitted-level-2);\n",
              "}\n",
              "\n",
              "#sk-container-id-8 div.sk-label.fitted input.sk-toggleable__control:checked~label.sk-toggleable__label {\n",
              "  background-color: var(--sklearn-color-fitted-level-2);\n",
              "}\n",
              "\n",
              "/* Estimator-specific style */\n",
              "\n",
              "/* Colorize estimator box */\n",
              "#sk-container-id-8 div.sk-estimator input.sk-toggleable__control:checked~label.sk-toggleable__label {\n",
              "  /* unfitted */\n",
              "  background-color: var(--sklearn-color-unfitted-level-2);\n",
              "}\n",
              "\n",
              "#sk-container-id-8 div.sk-estimator.fitted input.sk-toggleable__control:checked~label.sk-toggleable__label {\n",
              "  /* fitted */\n",
              "  background-color: var(--sklearn-color-fitted-level-2);\n",
              "}\n",
              "\n",
              "#sk-container-id-8 div.sk-label label.sk-toggleable__label,\n",
              "#sk-container-id-8 div.sk-label label {\n",
              "  /* The background is the default theme color */\n",
              "  color: var(--sklearn-color-text-on-default-background);\n",
              "}\n",
              "\n",
              "/* On hover, darken the color of the background */\n",
              "#sk-container-id-8 div.sk-label:hover label.sk-toggleable__label {\n",
              "  color: var(--sklearn-color-text);\n",
              "  background-color: var(--sklearn-color-unfitted-level-2);\n",
              "}\n",
              "\n",
              "/* Label box, darken color on hover, fitted */\n",
              "#sk-container-id-8 div.sk-label.fitted:hover label.sk-toggleable__label.fitted {\n",
              "  color: var(--sklearn-color-text);\n",
              "  background-color: var(--sklearn-color-fitted-level-2);\n",
              "}\n",
              "\n",
              "/* Estimator label */\n",
              "\n",
              "#sk-container-id-8 div.sk-label label {\n",
              "  font-family: monospace;\n",
              "  font-weight: bold;\n",
              "  display: inline-block;\n",
              "  line-height: 1.2em;\n",
              "}\n",
              "\n",
              "#sk-container-id-8 div.sk-label-container {\n",
              "  text-align: center;\n",
              "}\n",
              "\n",
              "/* Estimator-specific */\n",
              "#sk-container-id-8 div.sk-estimator {\n",
              "  font-family: monospace;\n",
              "  border: 1px dotted var(--sklearn-color-border-box);\n",
              "  border-radius: 0.25em;\n",
              "  box-sizing: border-box;\n",
              "  margin-bottom: 0.5em;\n",
              "  /* unfitted */\n",
              "  background-color: var(--sklearn-color-unfitted-level-0);\n",
              "}\n",
              "\n",
              "#sk-container-id-8 div.sk-estimator.fitted {\n",
              "  /* fitted */\n",
              "  background-color: var(--sklearn-color-fitted-level-0);\n",
              "}\n",
              "\n",
              "/* on hover */\n",
              "#sk-container-id-8 div.sk-estimator:hover {\n",
              "  /* unfitted */\n",
              "  background-color: var(--sklearn-color-unfitted-level-2);\n",
              "}\n",
              "\n",
              "#sk-container-id-8 div.sk-estimator.fitted:hover {\n",
              "  /* fitted */\n",
              "  background-color: var(--sklearn-color-fitted-level-2);\n",
              "}\n",
              "\n",
              "/* Specification for estimator info (e.g. \"i\" and \"?\") */\n",
              "\n",
              "/* Common style for \"i\" and \"?\" */\n",
              "\n",
              ".sk-estimator-doc-link,\n",
              "a:link.sk-estimator-doc-link,\n",
              "a:visited.sk-estimator-doc-link {\n",
              "  float: right;\n",
              "  font-size: smaller;\n",
              "  line-height: 1em;\n",
              "  font-family: monospace;\n",
              "  background-color: var(--sklearn-color-background);\n",
              "  border-radius: 1em;\n",
              "  height: 1em;\n",
              "  width: 1em;\n",
              "  text-decoration: none !important;\n",
              "  margin-left: 0.5em;\n",
              "  text-align: center;\n",
              "  /* unfitted */\n",
              "  border: var(--sklearn-color-unfitted-level-1) 1pt solid;\n",
              "  color: var(--sklearn-color-unfitted-level-1);\n",
              "}\n",
              "\n",
              ".sk-estimator-doc-link.fitted,\n",
              "a:link.sk-estimator-doc-link.fitted,\n",
              "a:visited.sk-estimator-doc-link.fitted {\n",
              "  /* fitted */\n",
              "  border: var(--sklearn-color-fitted-level-1) 1pt solid;\n",
              "  color: var(--sklearn-color-fitted-level-1);\n",
              "}\n",
              "\n",
              "/* On hover */\n",
              "div.sk-estimator:hover .sk-estimator-doc-link:hover,\n",
              ".sk-estimator-doc-link:hover,\n",
              "div.sk-label-container:hover .sk-estimator-doc-link:hover,\n",
              ".sk-estimator-doc-link:hover {\n",
              "  /* unfitted */\n",
              "  background-color: var(--sklearn-color-unfitted-level-3);\n",
              "  color: var(--sklearn-color-background);\n",
              "  text-decoration: none;\n",
              "}\n",
              "\n",
              "div.sk-estimator.fitted:hover .sk-estimator-doc-link.fitted:hover,\n",
              ".sk-estimator-doc-link.fitted:hover,\n",
              "div.sk-label-container:hover .sk-estimator-doc-link.fitted:hover,\n",
              ".sk-estimator-doc-link.fitted:hover {\n",
              "  /* fitted */\n",
              "  background-color: var(--sklearn-color-fitted-level-3);\n",
              "  color: var(--sklearn-color-background);\n",
              "  text-decoration: none;\n",
              "}\n",
              "\n",
              "/* Span, style for the box shown on hovering the info icon */\n",
              ".sk-estimator-doc-link span {\n",
              "  display: none;\n",
              "  z-index: 9999;\n",
              "  position: relative;\n",
              "  font-weight: normal;\n",
              "  right: .2ex;\n",
              "  padding: .5ex;\n",
              "  margin: .5ex;\n",
              "  width: min-content;\n",
              "  min-width: 20ex;\n",
              "  max-width: 50ex;\n",
              "  color: var(--sklearn-color-text);\n",
              "  box-shadow: 2pt 2pt 4pt #999;\n",
              "  /* unfitted */\n",
              "  background: var(--sklearn-color-unfitted-level-0);\n",
              "  border: .5pt solid var(--sklearn-color-unfitted-level-3);\n",
              "}\n",
              "\n",
              ".sk-estimator-doc-link.fitted span {\n",
              "  /* fitted */\n",
              "  background: var(--sklearn-color-fitted-level-0);\n",
              "  border: var(--sklearn-color-fitted-level-3);\n",
              "}\n",
              "\n",
              ".sk-estimator-doc-link:hover span {\n",
              "  display: block;\n",
              "}\n",
              "\n",
              "/* \"?\"-specific style due to the `<a>` HTML tag */\n",
              "\n",
              "#sk-container-id-8 a.estimator_doc_link {\n",
              "  float: right;\n",
              "  font-size: 1rem;\n",
              "  line-height: 1em;\n",
              "  font-family: monospace;\n",
              "  background-color: var(--sklearn-color-background);\n",
              "  border-radius: 1rem;\n",
              "  height: 1rem;\n",
              "  width: 1rem;\n",
              "  text-decoration: none;\n",
              "  /* unfitted */\n",
              "  color: var(--sklearn-color-unfitted-level-1);\n",
              "  border: var(--sklearn-color-unfitted-level-1) 1pt solid;\n",
              "}\n",
              "\n",
              "#sk-container-id-8 a.estimator_doc_link.fitted {\n",
              "  /* fitted */\n",
              "  border: var(--sklearn-color-fitted-level-1) 1pt solid;\n",
              "  color: var(--sklearn-color-fitted-level-1);\n",
              "}\n",
              "\n",
              "/* On hover */\n",
              "#sk-container-id-8 a.estimator_doc_link:hover {\n",
              "  /* unfitted */\n",
              "  background-color: var(--sklearn-color-unfitted-level-3);\n",
              "  color: var(--sklearn-color-background);\n",
              "  text-decoration: none;\n",
              "}\n",
              "\n",
              "#sk-container-id-8 a.estimator_doc_link.fitted:hover {\n",
              "  /* fitted */\n",
              "  background-color: var(--sklearn-color-fitted-level-3);\n",
              "}\n",
              "</style><div id=\"sk-container-id-8\" class=\"sk-top-container\"><div class=\"sk-text-repr-fallback\"><pre>RandomForestClassifier(max_depth=10, n_estimators=200)</pre><b>In a Jupyter environment, please rerun this cell to show the HTML representation or trust the notebook. <br />On GitHub, the HTML representation is unable to render, please try loading this page with nbviewer.org.</b></div><div class=\"sk-container\" hidden><div class=\"sk-item\"><div class=\"sk-estimator fitted sk-toggleable\"><input class=\"sk-toggleable__control sk-hidden--visually\" id=\"sk-estimator-id-8\" type=\"checkbox\" checked><label for=\"sk-estimator-id-8\" class=\"sk-toggleable__label fitted sk-toggleable__label-arrow\"><div><div>RandomForestClassifier</div></div><div><a class=\"sk-estimator-doc-link fitted\" rel=\"noreferrer\" target=\"_blank\" href=\"https://scikit-learn.org/1.6/modules/generated/sklearn.ensemble.RandomForestClassifier.html\">?<span>Documentation for RandomForestClassifier</span></a><span class=\"sk-estimator-doc-link fitted\">i<span>Fitted</span></span></div></label><div class=\"sk-toggleable__content fitted\"><pre>RandomForestClassifier(max_depth=10, n_estimators=200)</pre></div> </div></div></div></div>"
            ]
          },
          "metadata": {},
          "execution_count": 193
        }
      ],
      "source": [
        "from sklearn.ensemble import RandomForestClassifier\n",
        "model_rf=RandomForestClassifier(n_estimators=200,max_depth=10,min_samples_split=2)\n",
        "model_rf.fit(x_train,y_train)"
      ]
    },
    {
      "cell_type": "code",
      "execution_count": null,
      "metadata": {
        "id": "Jlnv8i8kBdQa"
      },
      "outputs": [],
      "source": [
        "\n",
        "y_pred_train_rf=model_rf.predict(x_train)\n",
        "y_pred_test_rf=model_rf.predict(x_test)\n"
      ]
    },
    {
      "cell_type": "code",
      "execution_count": null,
      "metadata": {
        "colab": {
          "base_uri": "https://localhost:8080/"
        },
        "id": "jDR51wAFBdNS",
        "outputId": "83522f32-3b00-4705-bcd5-6ed17b04e89f"
      },
      "outputs": [
        {
          "output_type": "stream",
          "name": "stdout",
          "text": [
            "Average Cross-Validation Accuracy: 0.8272058823529411\n",
            "Accuracy scores: [0.82352941 1.         0.875      0.75       0.6875    ]\n",
            "Mean accuracy_rf: 0.8272058823529411\n",
            "Standard deviation_accu_rf: 0.10736301322614106\n"
          ]
        }
      ],
      "source": [
        "cv_scores = cross_val_score(model_rf, x, y, cv=5, scoring='accuracy')\n",
        "print(\"Average Cross-Validation Accuracy:\", cv_scores.mean())\n",
        "print(\"Accuracy scores:\", cv_scores)\n",
        "print(\"Mean accuracy_rf:\", cv_scores.mean())\n",
        "print(\"Standard deviation_accu_rf:\", cv_scores.std())\n"
      ]
    },
    {
      "cell_type": "code",
      "execution_count": null,
      "metadata": {
        "colab": {
          "base_uri": "https://localhost:8080/"
        },
        "id": "Qvi8ulFXSxez",
        "outputId": "649e48c0-3d73-45a2-b325-e8501e004f0f"
      },
      "outputs": [
        {
          "output_type": "stream",
          "name": "stdout",
          "text": [
            "Average Cross-Validation recall: 0.75\n",
            "recall scores: [0.875 1.    0.625 0.625 0.625]\n",
            "Mean recall_rf: 0.75\n",
            "Standard deviation_recall_rf: 0.15811388300841897\n"
          ]
        }
      ],
      "source": [
        "cv_scores = cross_val_score(model_rf, x, y, cv=5, scoring='recall')\n",
        "print(\"Average Cross-Validation recall:\", cv_scores.mean())\n",
        "print(\"recall scores:\", cv_scores)\n",
        "print(\"Mean recall_rf:\", cv_scores.mean())\n",
        "print(\"Standard deviation_recall_rf:\", cv_scores.std())"
      ]
    },
    {
      "cell_type": "code",
      "execution_count": null,
      "metadata": {
        "colab": {
          "base_uri": "https://localhost:8080/"
        },
        "id": "DvHX_noWSF-Z",
        "outputId": "b19d79f5-66b5-472e-8a1d-d9f3c674c7e5"
      },
      "outputs": [
        {
          "output_type": "stream",
          "name": "stdout",
          "text": [
            "Average Cross-Validation precision: 0.8257142857142858\n",
            "precision: [0.7        1.         1.         0.71428571 0.71428571]\n",
            "Mean precision_rf: 0.8257142857142858\n",
            "Standard deviation_pre_rf: 0.1423992662214527\n"
          ]
        }
      ],
      "source": [
        "cv_scores = cross_val_score(model_rf, x, y, cv=5, scoring='precision')\n",
        "print(\"Average Cross-Validation precision:\", cv_scores.mean())\n",
        "print(\"precision:\", cv_scores)\n",
        "print(\"Mean precision_rf:\", cv_scores.mean())\n",
        "print(\"Standard deviation_pre_rf:\", cv_scores.std())"
      ]
    },
    {
      "cell_type": "code",
      "execution_count": null,
      "metadata": {
        "id": "lF4tOzmURm5r"
      },
      "outputs": [],
      "source": [
        "cv_scores = cross_val_score(model_rf, x, y, cv=5, scoring='f1')\n",
        "print(\"Average Cross-Validation F1-score:\", cv_scores.mean())\n",
        "print(\"F1 scores:\", cv_scores)\n",
        "print(\"Mean F1-score_rf:\", cv_scores.mean())\n",
        "print(\"Standard deviation_f1_rf:\", cv_scores.std())\n"
      ]
    },
    {
      "cell_type": "code",
      "execution_count": null,
      "metadata": {
        "id": "eNKfKsJzXAp-"
      },
      "outputs": [],
      "source": [
        "\n",
        "\n",
        "cv_scores = cross_val_score(model_rf, x, y, cv=5, scoring='roc_auc')\n",
        "print(\"Average Cross-Validation ROC-AUC:\", cv_scores.mean())\n",
        "print(\"ROC-AUC scores:\", cv_scores)\n",
        "print(\"Mean ROC-AUC_rf:\", cv_scores.mean())\n",
        "print(\"Standard deviatio_roc_rf:\", cv_scores.std())\n"
      ]
    },
    {
      "cell_type": "code",
      "execution_count": null,
      "metadata": {
        "id": "tldJ_UItp5_a"
      },
      "outputs": [],
      "source": [
        "# Perform cross-validation for log-loss\n",
        "cv_scores = cross_val_score(model_rf, x, y, cv=5, scoring='neg_log_loss')\n",
        "\n",
        "# Convert negative log-loss to positive log-loss\n",
        "positive_log_loss = -cv_scores\n",
        "\n",
        "# Print results\n",
        "print(\"Cross-Validation Log-Loss (positive):\", positive_log_loss)\n",
        "print(\"Average Log-Loss_rf:\", positive_log_loss.mean())\n",
        "print(\"Standard Deviation of Log-los_rf:\", positive_log_loss.std())\n"
      ]
    },
    {
      "cell_type": "code",
      "execution_count": null,
      "metadata": {
        "id": "xYaj5ZZsrTsZ"
      },
      "outputs": [],
      "source": [
        "cv_scores = cross_val_score(model_rf, x, y, cv=5, scoring='neg_mean_squared_error')\n",
        "\n",
        "# Convert negative MSE to positive MSE\n",
        "positive_mse = -cv_scores\n",
        "\n",
        "# Print results\n",
        "print(\"Cross-Validation MSE (positive):\", positive_mse)\n",
        "print(\"Average MSE_rf:\", positive_mse.mean())\n",
        "print(\"Standard Deviation of MSE_rf:\", positive_mse.std())\n"
      ]
    },
    {
      "cell_type": "code",
      "execution_count": null,
      "metadata": {
        "id": "edL30_fwBdJT"
      },
      "outputs": [],
      "source": [
        "from sklearn.metrics import confusion_matrix,accuracy_score,recall_score,mean_squared_error,precision_score,roc_auc_score,f1_score,log_loss"
      ]
    },
    {
      "cell_type": "code",
      "execution_count": null,
      "metadata": {
        "id": "ho1nVuZ2DfPS"
      },
      "outputs": [],
      "source": [
        "confusion_matrix(y_train,y_pred_train_rf)\n"
      ]
    },
    {
      "cell_type": "code",
      "execution_count": null,
      "metadata": {
        "id": "eRhNL6RwEMR0"
      },
      "outputs": [],
      "source": [
        "confusion_matrix(y_test,y_pred_test_rf)"
      ]
    },
    {
      "cell_type": "code",
      "execution_count": null,
      "metadata": {
        "id": "PjDnbdavEMN8"
      },
      "outputs": [],
      "source": [
        "acc_train_rf=accuracy_score(y_train,y_pred_train_rf)\n",
        "acc_test_rf=accuracy_score(y_test,y_pred_test_rf)\n",
        "acc_train_rf,acc_test_rf"
      ]
    },
    {
      "cell_type": "code",
      "execution_count": null,
      "metadata": {
        "id": "E6PrMfhfEMK_"
      },
      "outputs": [],
      "source": [
        "rec_train_rf=recall_score(y_train,y_pred_train_rf)\n",
        "rec_test_rf=recall_score(y_test,y_pred_test_rf)\n",
        "rec_train_rf,rec_test_rf"
      ]
    },
    {
      "cell_type": "code",
      "execution_count": null,
      "metadata": {
        "id": "GaOJ3i9iEMHk"
      },
      "outputs": [],
      "source": [
        "mse_train_rf=mean_squared_error(y_train,y_pred_train_rf)\n",
        "mse_test_rf=mean_squared_error(y_test,y_pred_test_rf)\n",
        "mse_train_rf,mse_test_rf"
      ]
    },
    {
      "cell_type": "code",
      "execution_count": null,
      "metadata": {
        "id": "Fmdb83hPejP2"
      },
      "outputs": [],
      "source": [
        "f1_train_rf = f1_score(y_train, y_pred_train_rf)\n",
        "f1_test_rf = f1_score(y_test, y_pred_test_rf)\n",
        "f1_train_rf,f1_test_rf"
      ]
    },
    {
      "cell_type": "code",
      "execution_count": null,
      "metadata": {
        "id": "3tPBASFJEMEC"
      },
      "outputs": [],
      "source": [
        "prec_train_rf=precision_score(y_train,y_pred_train_rf)\n",
        "prec_test_rf=precision_score(y_test,y_pred_test_rf)\n",
        "prec_train_rf,prec_test_rf"
      ]
    },
    {
      "cell_type": "code",
      "execution_count": null,
      "metadata": {
        "id": "4Z99CwKdEX6Q"
      },
      "outputs": [],
      "source": [
        "roc_au_train_rf=roc_auc_score(y_train,y_pred_train_rf)\n",
        "roc_au_test_rf=roc_auc_score(y_test,y_pred_test_rf)\n",
        "roc_au_train_rf,roc_au_test_rf"
      ]
    },
    {
      "cell_type": "code",
      "execution_count": null,
      "metadata": {
        "id": "p3TRLEzjMatA"
      },
      "outputs": [],
      "source": [
        "bce=log_loss(y_test,y_pred_test_rf)\n",
        "bce"
      ]
    },
    {
      "cell_type": "code",
      "execution_count": null,
      "metadata": {
        "id": "-M1yM3I1EX2i"
      },
      "outputs": [],
      "source": [
        "from sklearn.naive_bayes import GaussianNB\n",
        "\n",
        "NB=GaussianNB(var_smoothing=1e-09)\n",
        "NB.fit(x_train,y_train)"
      ]
    },
    {
      "cell_type": "code",
      "execution_count": null,
      "metadata": {
        "id": "vXOXWIpoHmyt"
      },
      "outputs": [],
      "source": [
        "y_pred_train_NB=NB.predict(x_train)\n",
        "y_pred_test_NB=NB.predict(x_test)"
      ]
    },
    {
      "cell_type": "code",
      "execution_count": null,
      "metadata": {
        "id": "FH437UVKHmv7"
      },
      "outputs": [],
      "source": [
        "cv_scores = cross_val_score(NB, x, y, cv=5, scoring='accuracy')\n",
        "print(\"Average Cross-Validation Accuracy:\", cv_scores.mean())\n",
        "print(\"Accuracy scores:\", cv_scores)\n",
        "print(\"Mean accuracy_NB:\", cv_scores.mean())\n",
        "print(\"Standard deviation_accu_NB:\", cv_scores.std())"
      ]
    },
    {
      "cell_type": "code",
      "execution_count": null,
      "metadata": {
        "id": "Ba5MVteCDSGk"
      },
      "outputs": [],
      "source": [
        "from sklearn.model_selection import cross_val_score\n",
        "cv_scores = cross_val_score(NB, x, y, cv=5, scoring='recall')\n",
        "print(\"Average Cross-Validation recall:\", cv_scores.mean())\n",
        "print(\"recall scores:\", cv_scores)\n",
        "print(\"Mean recall_NB:\", cv_scores.mean())\n",
        "print(\"Standard deviation_recall_NB:\", cv_scores.std())"
      ]
    },
    {
      "cell_type": "code",
      "execution_count": null,
      "metadata": {
        "id": "ymqjHB70ShU6"
      },
      "outputs": [],
      "source": [
        "cv_scores = cross_val_score(NB, x, y, cv=5, scoring='precision')\n",
        "print(\"Average Cross-Validation precision:\", cv_scores.mean())\n",
        "print(\"precision scores:\", cv_scores)\n",
        "print(\"Mean precision_NB:\", cv_scores.mean())\n",
        "print(\"Standard deviation_prec_NB:\", cv_scores.std())\n"
      ]
    },
    {
      "cell_type": "code",
      "execution_count": null,
      "metadata": {
        "id": "36eSx78bShKh"
      },
      "outputs": [],
      "source": [
        "cv_scores = cross_val_score(NB, x, y, cv=5, scoring='f1')\n",
        "print(\"Average Cross-Validation F1-score:\", cv_scores.mean())\n",
        "print(\"F1 scores:\", cv_scores)\n",
        "print(\"Mean F1-score_NB:\", cv_scores.mean())\n",
        "print(\"Standard deviation_f1_NB:\", cv_scores.std())\n"
      ]
    },
    {
      "cell_type": "code",
      "execution_count": null,
      "metadata": {
        "id": "kXD2FnP6XOIz"
      },
      "outputs": [],
      "source": [
        "\n",
        "cv_scores = cross_val_score(NB, x, y, cv=5, scoring='roc_auc')\n",
        "print(\"Average Cross-Validation ROC-AUC:\", cv_scores.mean())\n",
        "print(\"ROC-AUC scores:\", cv_scores)\n",
        "print(\"Mean ROC-AUC_NB:\", cv_scores.mean())\n",
        "print(\"Standard deviation_roc_NB:\", cv_scores.std())\n"
      ]
    },
    {
      "cell_type": "code",
      "execution_count": null,
      "metadata": {
        "id": "c2WWlAzOr6tv"
      },
      "outputs": [],
      "source": [
        "cv_scores = cross_val_score(NB, x, y, cv=5, scoring='neg_log_loss')\n",
        "\n",
        "# Convert negative log-loss to positive log-loss\n",
        "positive_log_loss = -cv_scores\n",
        "\n",
        "# Print results\n",
        "print(\"Cross-Validation Log-Loss (positive):\", positive_log_loss)\n",
        "print(\"Average Log-Loss_NB:\", positive_log_loss.mean())\n",
        "print(\"Standard Deviation of Log-Loss_NB:\", positive_log_loss.std())"
      ]
    },
    {
      "cell_type": "code",
      "execution_count": null,
      "metadata": {
        "id": "85BtSiqXsBAh"
      },
      "outputs": [],
      "source": [
        "cv_scores = cross_val_score(NB, x, y, cv=5, scoring='neg_mean_squared_error')\n",
        "\n",
        "# Convert negative MSE to positive MSE\n",
        "positive_mse = -cv_scores\n",
        "\n",
        "# Print results\n",
        "print(\"Cross-Validation MSE (positive):\", positive_mse)\n",
        "print(\"Average MSE_NB:\", positive_mse.mean())\n",
        "print(\"Standard Deviation of MSE_NB:\", positive_mse.std())\n"
      ]
    },
    {
      "cell_type": "code",
      "execution_count": null,
      "metadata": {
        "id": "EO30MMvqHmtM"
      },
      "outputs": [],
      "source": [
        "from sklearn.metrics import confusion_matrix, accuracy_score,recall_score,precision_score,mean_squared_error,roc_auc_score,f1_score"
      ]
    },
    {
      "cell_type": "code",
      "execution_count": null,
      "metadata": {
        "id": "gkKBWrEwHmpr"
      },
      "outputs": [],
      "source": [
        "confusion_matrix(y_train,y_pred_train_NB)"
      ]
    },
    {
      "cell_type": "code",
      "execution_count": null,
      "metadata": {
        "id": "yr101AS1Hmmg"
      },
      "outputs": [],
      "source": [
        "confusion_matrix(y_test,y_pred_test_NB)"
      ]
    },
    {
      "cell_type": "code",
      "execution_count": null,
      "metadata": {
        "id": "3o98VY24HmkO"
      },
      "outputs": [],
      "source": [
        "acc_train_NB=accuracy_score(y_train,y_pred_train_NB)\n",
        "acc_test_NB=accuracy_score(y_test,y_pred_test_NB)\n",
        "acc_train_NB,acc_test_NB"
      ]
    },
    {
      "cell_type": "code",
      "execution_count": null,
      "metadata": {
        "id": "lOWCssXbHmdr"
      },
      "outputs": [],
      "source": [
        "rec_train_NB=recall_score(y_train,y_pred_train_NB)\n",
        "rec_test_NB=recall_score(y_test,y_pred_test_NB)\n",
        "rec_train_NB,rec_test_NB"
      ]
    },
    {
      "cell_type": "code",
      "execution_count": null,
      "metadata": {
        "id": "66aO4TQeHmYf"
      },
      "outputs": [],
      "source": [
        "pre_train_NB=precision_score(y_train,y_pred_train_NB)\n",
        "pre_test_NB=precision_score(y_test,y_pred_test_NB)\n",
        "pre_train_NB,pre_test_NB"
      ]
    },
    {
      "cell_type": "code",
      "execution_count": null,
      "metadata": {
        "id": "OmuRAFNTHmQ4"
      },
      "outputs": [],
      "source": [
        "mse_train_NB=mean_squared_error(y_train,y_pred_train_NB)\n",
        "mse_test_NB=mean_squared_error(y_test,y_pred_test_NB)\n",
        "mse_train_NB,mse_test_NB"
      ]
    },
    {
      "cell_type": "code",
      "execution_count": null,
      "metadata": {
        "id": "-G3aVpRwHmIa"
      },
      "outputs": [],
      "source": [
        "roc_au_test_NB=roc_auc_score(y_test,y_pred_test_NB)\n",
        "roc_au_test_NB"
      ]
    },
    {
      "cell_type": "code",
      "execution_count": null,
      "metadata": {
        "id": "pYGaAx6ofIhK"
      },
      "outputs": [],
      "source": [
        "f1_train_NB = f1_score(y_train, y_pred_train_NB)\n",
        "f1_test_NB = f1_score(y_test, y_pred_test_NB)\n",
        "f1_train_NB,f1_test_NB"
      ]
    },
    {
      "cell_type": "markdown",
      "metadata": {
        "id": "Z1DsJCkML6kg"
      },
      "source": [
        "#KNN"
      ]
    },
    {
      "cell_type": "code",
      "execution_count": null,
      "metadata": {
        "id": "_EAX9TweHmEk"
      },
      "outputs": [],
      "source": [
        "from sklearn.neighbors import KNeighborsClassifier\n",
        "knn=KNeighborsClassifier(algorithm='brute', n_neighbors=7,weights='uniform')\n",
        "knn.fit(x_train,y_train)"
      ]
    },
    {
      "cell_type": "code",
      "execution_count": null,
      "metadata": {
        "id": "IZ9S18TGHmAk"
      },
      "outputs": [],
      "source": [
        "y_pred_train_knn=knn.predict(x_train)\n",
        "y_pred_test_knn=knn.predict(x_test)"
      ]
    },
    {
      "cell_type": "code",
      "execution_count": null,
      "metadata": {
        "id": "A9NHI-s1Hl8T"
      },
      "outputs": [],
      "source": [
        "cv_scores = cross_val_score(knn, x, y, cv=5, scoring='accuracy')\n",
        "print(\"Average Cross-Validation Accuracy:\", cv_scores.mean())\n",
        "print(\"Accuracy scores:\", cv_scores)\n",
        "print(\"Mean accuracy_knn:\", cv_scores.mean())\n",
        "print(\"Standard deviation_acc_knn:\", cv_scores.std())"
      ]
    },
    {
      "cell_type": "code",
      "execution_count": null,
      "metadata": {
        "id": "mMHh4F0oDEMK"
      },
      "outputs": [],
      "source": [
        "cv_scores = cross_val_score(knn, x, y, cv=5, scoring='recall')\n",
        "print(\"Average Cross-Validation recall:\", cv_scores.mean())\n",
        "print(\"recall scores:\", cv_scores)\n",
        "print(\"Mean recall_knn:\", cv_scores.mean())\n",
        "print(\"Standard deviation_recall_knn:\", cv_scores.std())"
      ]
    },
    {
      "cell_type": "code",
      "execution_count": null,
      "metadata": {
        "id": "3P1472V-TBVK"
      },
      "outputs": [],
      "source": [
        "cv_scores = cross_val_score(knn, x, y, cv=5, scoring='precision')\n",
        "print(\"Average Cross-Validation precision:\", cv_scores.mean())\n",
        "print(\"precision:\", cv_scores)\n",
        "print(\"Mean precision_knn:\", cv_scores.mean())\n",
        "print(\"Standard deviation_prec_knn:\", cv_scores.std())\n"
      ]
    },
    {
      "cell_type": "code",
      "execution_count": null,
      "metadata": {
        "id": "nxm5Zi1aTBLq"
      },
      "outputs": [],
      "source": [
        "cv_scores = cross_val_score(knn, x, y, cv=5, scoring='f1')\n",
        "print(\"Average Cross-Validation F1-score:\", cv_scores.mean())\n",
        "print(\"F1 scores:\", cv_scores)\n",
        "print(\"Mean F1-score_knn:\", cv_scores.mean())\n",
        "print(\"Standard deviation_f1_knn:\", cv_scores.std())\n"
      ]
    },
    {
      "cell_type": "code",
      "execution_count": null,
      "metadata": {
        "id": "FwcRfRWwXVPh"
      },
      "outputs": [],
      "source": [
        "\n",
        "\n",
        "cv_scores = cross_val_score(knn, x, y, cv=5, scoring='roc_auc')\n",
        "print(\"Average Cross-Validation ROC-AUC:\", cv_scores.mean())\n",
        "print(\"ROC-AUC scores:\", cv_scores)\n",
        "print(\"Mean ROC-AUC_knn:\", cv_scores.mean())\n",
        "print(\"Standard deviation_roc_knn:\", cv_scores.std())\n"
      ]
    },
    {
      "cell_type": "code",
      "execution_count": null,
      "metadata": {
        "id": "m9FXCnH2sax-"
      },
      "outputs": [],
      "source": [
        "v_scores = cross_val_score(knn, x, y, cv=5, scoring='neg_log_loss')\n",
        "\n",
        "# Convert negative log-loss to positive log-loss\n",
        "positive_log_loss = -cv_scores\n",
        "\n",
        "# Print results\n",
        "print(\"Cross-Validation Log-Loss (positive):\", positive_log_loss)\n",
        "print(\"Average Log-Loss_knn:\", positive_log_loss.mean())\n",
        "print(\"Standard Deviation of Log-Loss_knn:\", positive_log_loss.std())"
      ]
    },
    {
      "cell_type": "code",
      "execution_count": null,
      "metadata": {
        "id": "Tae_jjmtsEY2"
      },
      "outputs": [],
      "source": [
        "cv_scores = cross_val_score(knn, x, y, cv=5, scoring='neg_mean_squared_error')\n",
        "\n",
        "# Convert negative MSE to positive MSE\n",
        "positive_mse = -cv_scores\n",
        "\n",
        "# Print results\n",
        "print(\"Cross-Validation MSE (positive):\", positive_mse)\n",
        "print(\"Average MSE_knn:\", positive_mse.mean())\n",
        "print(\"Standard Deviation of MSE_knn:\", positive_mse.std())\n"
      ]
    },
    {
      "cell_type": "code",
      "execution_count": null,
      "metadata": {
        "id": "_VNUZBYlsEPC"
      },
      "outputs": [],
      "source": []
    },
    {
      "cell_type": "code",
      "execution_count": null,
      "metadata": {
        "id": "Fj0T9V1yHl4b"
      },
      "outputs": [],
      "source": [
        "from sklearn.metrics import confusion_matrix,accuracy_score,recall_score,mean_squared_error,precision_score,roc_auc_score,f1_score"
      ]
    },
    {
      "cell_type": "code",
      "execution_count": null,
      "metadata": {
        "id": "JK9h26ckHl1r"
      },
      "outputs": [],
      "source": [
        "confusion_matrix(y_train,y_pred_train_knn)"
      ]
    },
    {
      "cell_type": "code",
      "execution_count": null,
      "metadata": {
        "id": "2KJTbLgsHlyR"
      },
      "outputs": [],
      "source": [
        "confusion_matrix(y_test,y_pred_test_knn)"
      ]
    },
    {
      "cell_type": "code",
      "execution_count": null,
      "metadata": {
        "id": "GM_jj6U8HluZ"
      },
      "outputs": [],
      "source": [
        "acc_train_knn=accuracy_score(y_train,y_pred_train_knn)\n",
        "acc_test_knn=accuracy_score(y_test,y_pred_test_knn)\n",
        "acc_train_knn,acc_test_knn"
      ]
    },
    {
      "cell_type": "code",
      "execution_count": null,
      "metadata": {
        "id": "Z5geNZmPHlrn"
      },
      "outputs": [],
      "source": [
        "rec_train_knn=recall_score(y_train,y_pred_train_knn)\n",
        "rec_test_knn=recall_score(y_test,y_pred_test_knn)\n",
        "rec_train_knn,rec_test_knn"
      ]
    },
    {
      "cell_type": "code",
      "execution_count": null,
      "metadata": {
        "id": "DXWTZ0nYHllW"
      },
      "outputs": [],
      "source": [
        "mse_train_knn=mean_squared_error(y_train,y_pred_train_knn)\n",
        "mse_test_knn=mean_squared_error(y_test,y_pred_test_knn)\n",
        "mse_train_knn,mse_test_knn"
      ]
    },
    {
      "cell_type": "code",
      "execution_count": null,
      "metadata": {
        "id": "GDitTVIBHliz"
      },
      "outputs": [],
      "source": [
        "roc_au_train_knn=roc_auc_score(y_train,y_pred_train_knn)\n",
        "roc_au_test_knn=roc_auc_score(y_test,y_pred_test_knn)\n",
        "roc_au_train_knn,roc_au_test_knn"
      ]
    },
    {
      "cell_type": "code",
      "execution_count": null,
      "metadata": {
        "id": "AJLU30n8HlfY"
      },
      "outputs": [],
      "source": [
        "prec_train_knn=precision_score(y_train,y_pred_train_knn)\n",
        "prec_test_knn=precision_score(y_test,y_pred_test_knn)\n",
        "prec_train_knn,prec_test_knn"
      ]
    },
    {
      "cell_type": "code",
      "execution_count": null,
      "metadata": {
        "id": "Kh7dx8P2frUo"
      },
      "outputs": [],
      "source": [
        "f1_train_knn = f1_score(y_train, y_pred_train_knn)\n",
        "f1_test_knn = f1_score(y_test, y_pred_test_knn)\n",
        "f1_train_knn,f1_test_knn"
      ]
    },
    {
      "cell_type": "markdown",
      "metadata": {
        "id": "-Uj5ZYFYQNBU"
      },
      "source": [
        "# decision tree"
      ]
    },
    {
      "cell_type": "code",
      "execution_count": null,
      "metadata": {
        "id": "pCc2JMN6HlcZ"
      },
      "outputs": [],
      "source": [
        "from sklearn.tree import DecisionTreeClassifier\n",
        "model_dt=DecisionTreeClassifier(max_depth=8, min_samples_leaf=2, min_samples_split=4)\n",
        "model_dt.fit(x_train,y_train)"
      ]
    },
    {
      "cell_type": "code",
      "execution_count": null,
      "metadata": {
        "id": "uQkbnBvLHlZY"
      },
      "outputs": [],
      "source": [
        "y_pred_train_dt=model_dt.predict(x_train)\n",
        "y_pred_test_dt=model_dt.predict(x_test)"
      ]
    },
    {
      "cell_type": "code",
      "execution_count": null,
      "metadata": {
        "id": "sVpgCpXkHlV5"
      },
      "outputs": [],
      "source": [
        "cv_scores = cross_val_score(model_dt, x, y, cv=5, scoring='accuracy')\n",
        "print(\"Average Cross-Validation Accuracy:\", cv_scores.mean())\n",
        "print(\"Accuracy scores:\", cv_scores)\n",
        "print(\"Mean accuracy_dt:\", cv_scores.mean())\n",
        "print(\"Standard deviation_accu_dt:\", cv_scores.std())"
      ]
    },
    {
      "cell_type": "code",
      "execution_count": null,
      "metadata": {
        "id": "LiujJpyODGBG"
      },
      "outputs": [],
      "source": [
        "cv_scores = cross_val_score(model_dt, x, y, cv=5, scoring='recall')\n",
        "print(\"Average Cross-Validation recall:\", cv_scores.mean())\n",
        "print(\"recall scores:\", cv_scores)\n",
        "print(\"Mean recall_dt:\", cv_scores.mean())\n",
        "print(\"Standard deviation_recall_dt:\", cv_scores.std())"
      ]
    },
    {
      "cell_type": "code",
      "execution_count": null,
      "metadata": {
        "id": "_j6WTr9sTHk_"
      },
      "outputs": [],
      "source": [
        "cv_scores = cross_val_score(model_dt, x, y, cv=5, scoring='precision')\n",
        "print(\"Average Cross-Validation precision:\", cv_scores.mean())\n",
        "print(\"precision:\", cv_scores)\n",
        "print(\"Mean precision_dt:\", cv_scores.mean())\n",
        "print(\"Standard deviation_dt_prec:\", cv_scores.std())\n"
      ]
    },
    {
      "cell_type": "code",
      "execution_count": null,
      "metadata": {
        "id": "0gZ-Z2k9THaG"
      },
      "outputs": [],
      "source": [
        "cv_scores = cross_val_score(model_dt, x, y, cv=5, scoring='f1')\n",
        "print(\"Average Cross-Validation F1-score:\", cv_scores.mean())\n",
        "print(\"F1 scores:\", cv_scores)\n",
        "print(\"Mean F1-score_dt:\", cv_scores.mean())\n",
        "print(\"Standard deviation_dt_f1:\", cv_scores.std())\n"
      ]
    },
    {
      "cell_type": "code",
      "execution_count": null,
      "metadata": {
        "id": "wlUf2a4UXoED"
      },
      "outputs": [],
      "source": [
        "\n",
        "\n",
        "cv_scores = cross_val_score(model_dt, x, y, cv=5, scoring='roc_auc')\n",
        "print(\"Average Cross-Validation ROC-AUC:\", cv_scores.mean())\n",
        "print(\"ROC-AUC scores:\", cv_scores)\n",
        "print(\"Mean ROC-AUC_dt:\", cv_scores.mean())\n",
        "print(\"Standard deviation_dt_roc:\", cv_scores.std())\n"
      ]
    },
    {
      "cell_type": "code",
      "execution_count": null,
      "metadata": {
        "id": "nbU0mqO5sdzH"
      },
      "outputs": [],
      "source": [
        "v_scores = cross_val_score(model_dt, x, y, cv=5, scoring='neg_log_loss')\n",
        "\n",
        "# Convert negative log-loss to positive log-loss\n",
        "positive_log_loss = -cv_scores\n",
        "\n",
        "# Print results\n",
        "print(\"Cross-Validation Log-Loss (positive):\", positive_log_loss)\n",
        "print(\"Average Log-Loss_dt:\", positive_log_loss.mean())\n",
        "print(\"Standard Deviation of Log-Loss_dt:\", positive_log_loss.std())"
      ]
    },
    {
      "cell_type": "code",
      "execution_count": null,
      "metadata": {
        "id": "1C4qconvsmtU"
      },
      "outputs": [],
      "source": [
        "cv_scores = cross_val_score(model_dt, x, y, cv=5, scoring='neg_mean_squared_error')\n",
        "\n",
        "# Convert negative MSE to positive MSE\n",
        "positive_mse = -cv_scores\n",
        "\n",
        "# Print results\n",
        "print(\"Cross-Validation MSE (positive):\", positive_mse)\n",
        "print(\"Average MSE_dt:\", positive_mse.mean())\n",
        "print(\"Standard Deviation of MSE_dt:\", positive_mse.std())"
      ]
    },
    {
      "cell_type": "code",
      "execution_count": null,
      "metadata": {
        "id": "Al6KmwzQse9G"
      },
      "outputs": [],
      "source": []
    },
    {
      "cell_type": "code",
      "execution_count": null,
      "metadata": {
        "id": "weOAbc39HlSn"
      },
      "outputs": [],
      "source": [
        "from sklearn.metrics import confusion_matrix,accuracy_score,recall_score,mean_squared_error,precision_score,roc_auc_score,f1_score"
      ]
    },
    {
      "cell_type": "code",
      "execution_count": null,
      "metadata": {
        "id": "S8bndaP6e-IA"
      },
      "outputs": [],
      "source": [
        "confusion_matrix(y_train,y_pred_train_dt)"
      ]
    },
    {
      "cell_type": "code",
      "execution_count": null,
      "metadata": {
        "id": "JUVNmlZ5e-CP"
      },
      "outputs": [],
      "source": [
        "confusion_matrix(y_test,y_pred_test_dt)"
      ]
    },
    {
      "cell_type": "code",
      "execution_count": null,
      "metadata": {
        "id": "Pyvdc1Wve9wF"
      },
      "outputs": [],
      "source": [
        "acc_train_dt=accuracy_score(y_train,y_pred_train_dt)\n",
        "acc_test_dt=accuracy_score(y_test,y_pred_test_dt)\n",
        "acc_train_dt,acc_test_dt"
      ]
    },
    {
      "cell_type": "code",
      "execution_count": null,
      "metadata": {
        "id": "ElZqE7rYe9q0"
      },
      "outputs": [],
      "source": [
        "prec_train_dt=precision_score(y_train,y_pred_train_dt)\n",
        "prec_test_dt=precision_score(y_test,y_pred_test_dt)\n",
        "prec_train_dt,prec_test_dt"
      ]
    },
    {
      "cell_type": "code",
      "execution_count": null,
      "metadata": {
        "id": "7XeJhX-4e9lo"
      },
      "outputs": [],
      "source": [
        "roc_au_train_dt=roc_auc_score(y_train,y_pred_train_dt)\n",
        "roc_au_test_dt=roc_auc_score(y_test,y_pred_test_dt)\n",
        "roc_au_train_dt,roc_au_test_dt"
      ]
    },
    {
      "cell_type": "code",
      "execution_count": null,
      "metadata": {
        "id": "8labFQoXe9go"
      },
      "outputs": [],
      "source": [
        "rec_train_dt=recall_score(y_train,y_pred_train_dt)\n",
        "rec_test_dt=recall_score(y_test,y_pred_test_dt)\n",
        "rec_train_dt,rec_test_dt"
      ]
    },
    {
      "cell_type": "code",
      "execution_count": null,
      "metadata": {
        "id": "ZEJ_gDGUfcvg"
      },
      "outputs": [],
      "source": [
        "mse_train_dt=mean_squared_error(y_train,y_pred_train_dt)\n",
        "mse_test_dt=mean_squared_error(y_test,y_pred_test_dt)\n",
        "mse_train_dt,mse_test_dt"
      ]
    },
    {
      "cell_type": "code",
      "execution_count": null,
      "metadata": {
        "id": "fIJrxpZDf4TE"
      },
      "outputs": [],
      "source": [
        "f1_train_dt = f1_score(y_train, y_pred_train_dt)\n",
        "f1_test_dt = f1_score(y_test, y_pred_test_dt)\n",
        "f1_train_dt,f1_test_dt"
      ]
    },
    {
      "cell_type": "markdown",
      "metadata": {
        "id": "phJERzvggwAP"
      },
      "source": [
        "# SVM"
      ]
    },
    {
      "cell_type": "code",
      "execution_count": null,
      "metadata": {
        "id": "ni-X1dJxfcqF"
      },
      "outputs": [],
      "source": [
        "from sklearn.svm import SVC\n",
        "model_svm=SVC(C=10, gamma=0.1, kernel='linear')\n",
        "model_svm.fit(x_train,y_train)"
      ]
    },
    {
      "cell_type": "code",
      "execution_count": null,
      "metadata": {
        "id": "sujnnIJiVen1"
      },
      "outputs": [],
      "source": [
        "y_pred_train_svm=model_svm.predict(x_train)\n",
        "y_pred_test_svm=model_svm.predict(x_test)"
      ]
    },
    {
      "cell_type": "code",
      "execution_count": null,
      "metadata": {
        "id": "7sZannMDDHSm"
      },
      "outputs": [],
      "source": [
        "cv_scores = cross_val_score(model_svm, x, y, cv=5, scoring='accuracy')\n",
        "print(\"Average Cross-Validation accuracy:\", cv_scores.mean())\n",
        "print(\"accuracy scores:\", cv_scores)\n",
        "print(\"Mean accuracy_svm:\", cv_scores.mean())\n",
        "print(\"Standard deviation_svm_accu:\", cv_scores.std())"
      ]
    },
    {
      "cell_type": "code",
      "execution_count": null,
      "metadata": {
        "id": "lcnae6Ymfce8"
      },
      "outputs": [],
      "source": [
        "cv_scores = cross_val_score(model_svm, x, y, cv=5, scoring='recall')\n",
        "print(\"Average Cross-Validation recall:\", cv_scores.mean())\n",
        "print(\"recall scores:\", cv_scores)\n",
        "print(\"Mean recall_svm:\", cv_scores.mean())\n",
        "print(\"Standard deviation_svm_recall:\", cv_scores.std())"
      ]
    },
    {
      "cell_type": "code",
      "execution_count": null,
      "metadata": {
        "id": "KoT8R7cVTMa9"
      },
      "outputs": [],
      "source": [
        "cv_scores = cross_val_score(model_svm, x, y, cv=5, scoring='precision')\n",
        "print(\"Average Cross-Validation precision:\", cv_scores.mean())\n",
        "print(\"precision:\", cv_scores)\n",
        "print(\"Mean precision_svm:\", cv_scores.mean())\n",
        "print(\"Standard deviation_prec_svm:\", cv_scores.std())\n"
      ]
    },
    {
      "cell_type": "code",
      "execution_count": null,
      "metadata": {
        "id": "trIFKcErTMTp"
      },
      "outputs": [],
      "source": [
        "cv_scores = cross_val_score(model_svm, x, y, cv=5, scoring='f1')\n",
        "print(\"Average Cross-Validation F1-score:\", cv_scores.mean())\n",
        "print(\"F1 scores:\", cv_scores)\n",
        "print(\"Mean F1-score_svm:\", cv_scores.mean())\n",
        "print(\"Standard deviation_svm_f1:\", cv_scores.std())\n"
      ]
    },
    {
      "cell_type": "code",
      "execution_count": null,
      "metadata": {
        "id": "cKWHd0ixXsKv"
      },
      "outputs": [],
      "source": [
        "\n",
        "\n",
        "cv_scores = cross_val_score(model_svm, x, y, cv=5, scoring='roc_auc')\n",
        "print(\"Average Cross-Validation ROC-AUC:\", cv_scores.mean())\n",
        "print(\"ROC-AUC scores:\", cv_scores)\n",
        "print(\"Mean ROC-AUC_svm:\", cv_scores.mean())\n",
        "print(\"Standard deviation_roc_svm:\", cv_scores.std())\n"
      ]
    },
    {
      "cell_type": "code",
      "execution_count": null,
      "metadata": {
        "id": "2LSOMRpEspTK"
      },
      "outputs": [],
      "source": [
        "cv_scores = cross_val_score(model_svm, x, y, cv=5, scoring='neg_mean_squared_error')\n",
        "\n",
        "# Convert negative MSE to positive MSE\n",
        "positive_mse = -cv_scores\n",
        "\n",
        "# Print results\n",
        "print(\"Cross-Validation MSE (positive):\", positive_mse)\n",
        "print(\"Average MSE_svm:\", positive_mse.mean())\n",
        "print(\"Standard Deviation of MSE_svm:\", positive_mse.std())"
      ]
    },
    {
      "cell_type": "code",
      "execution_count": null,
      "metadata": {
        "id": "cYlsUaAeszu-"
      },
      "outputs": [],
      "source": [
        "v_scores = cross_val_score(model_svm, x, y, cv=5, scoring='neg_log_loss')\n",
        "\n",
        "# Convert negative log-loss to positive log-loss\n",
        "positive_log_loss = -cv_scores\n",
        "\n",
        "# Print results\n",
        "print(\"Cross-Validation Log-Loss (positive):\", positive_log_loss)\n",
        "print(\"Average Log-Loss_svm:\", positive_log_loss.mean())\n",
        "print(\"Standard Deviation of Log-Loss_svm:\", positive_log_loss.std())"
      ]
    },
    {
      "cell_type": "code",
      "execution_count": null,
      "metadata": {
        "id": "SdNGOmNBfcZY"
      },
      "outputs": [],
      "source": [
        "from sklearn.metrics import confusion_matrix,accuracy_score,recall_score,mean_squared_error,precision_score,roc_auc_score,f1_score"
      ]
    },
    {
      "cell_type": "code",
      "execution_count": null,
      "metadata": {
        "id": "p5hC4xzRfcTz"
      },
      "outputs": [],
      "source": [
        "confusion_matrix(y_train,y_pred_train_svm)"
      ]
    },
    {
      "cell_type": "code",
      "execution_count": null,
      "metadata": {
        "id": "4OB1rZFAhcNS"
      },
      "outputs": [],
      "source": [
        "confusion_matrix(y_test,y_pred_test_svm)"
      ]
    },
    {
      "cell_type": "code",
      "execution_count": null,
      "metadata": {
        "id": "qsiQ37lbhcBD"
      },
      "outputs": [],
      "source": [
        "acc_train_svm=accuracy_score(y_train,y_pred_train_svm)\n",
        "acc_test_svm=accuracy_score(y_test,y_pred_test_svm)\n",
        "acc_train_svm,acc_test_svm"
      ]
    },
    {
      "cell_type": "code",
      "execution_count": null,
      "metadata": {
        "id": "IyCPCFJOhb6v"
      },
      "outputs": [],
      "source": [
        "prec_train_svm=precision_score(y_train,y_pred_train_svm)\n",
        "prec_test_svm=precision_score(y_test,y_pred_test_svm)\n",
        "prec_train_svm,prec_test_svm"
      ]
    },
    {
      "cell_type": "code",
      "execution_count": null,
      "metadata": {
        "id": "8eb9_5kChk1N"
      },
      "outputs": [],
      "source": [
        "rec_train_svm=recall_score(y_train,y_pred_train_svm)\n",
        "rec_test_svm=recall_score(y_test,y_pred_test_svm)\n",
        "rec_train_svm,rec_test_svm"
      ]
    },
    {
      "cell_type": "code",
      "execution_count": null,
      "metadata": {
        "id": "P6sm-PyGhkuh"
      },
      "outputs": [],
      "source": [
        "mse_train_svm=mean_squared_error(y_train,y_pred_train_svm)\n",
        "mse_test_svm=mean_squared_error(y_test,y_pred_test_svm)\n",
        "mse_train_svm,mse_test_svm"
      ]
    },
    {
      "cell_type": "code",
      "execution_count": null,
      "metadata": {
        "id": "7YMb79wzh7WM"
      },
      "outputs": [],
      "source": [
        "roc_au_train_svm=roc_auc_score(y_train,y_pred_train_svm)\n",
        "roc_au_test_svm=roc_auc_score(y_test,y_pred_test_svm)\n",
        "roc_au_train_svm,roc_au_test_svm"
      ]
    },
    {
      "cell_type": "code",
      "execution_count": null,
      "metadata": {
        "id": "0j4TgLZpgBZ8"
      },
      "outputs": [],
      "source": [
        "f1_train_svm = f1_score(y_train, y_pred_train_svm)\n",
        "f1_test_svm = f1_score(y_test, y_pred_test_svm)\n",
        "f1_train_svm,f1_test_svm\n"
      ]
    },
    {
      "cell_type": "markdown",
      "metadata": {
        "id": "7RpzkDmujpWH"
      },
      "source": [
        "# logistic regression"
      ]
    },
    {
      "cell_type": "code",
      "execution_count": null,
      "metadata": {
        "id": "jX3LVYP2kO7t"
      },
      "outputs": [],
      "source": [
        "from sklearn.linear_model import LogisticRegression\n",
        "model_lr=LogisticRegression(C=10, penalty='l1', solver='liblinear')\n",
        "model_lr.fit(x_train,y_train)"
      ]
    },
    {
      "cell_type": "code",
      "execution_count": null,
      "metadata": {
        "id": "JnLeuQWikOqn"
      },
      "outputs": [],
      "source": [
        "y_pred_train_lr=model_lr.predict(x_train)\n",
        "y_pred_test_lr=model_lr.predict(x_test)"
      ]
    },
    {
      "cell_type": "code",
      "execution_count": null,
      "metadata": {
        "id": "RPK6pr1zkOi6"
      },
      "outputs": [],
      "source": [
        "cv_scores = cross_val_score(model_lr, x, y, cv=5, scoring='accuracy')\n",
        "print(\"Average Cross-Validation Accuracy:\", cv_scores.mean())\n",
        "print(\"Accuracy scores:\", cv_scores)\n",
        "print(\"Mean accuracy_lr:\", cv_scores.mean())\n",
        "print(\"Standard deviation_lr_accu:\", cv_scores.std())"
      ]
    },
    {
      "cell_type": "code",
      "execution_count": null,
      "metadata": {
        "id": "vi62RyD0T9-Q"
      },
      "outputs": [],
      "source": [
        "cv_scores = cross_val_score(model_lr, x, y, cv=5, scoring='recall')\n",
        "print(\"Average Cross-Validation recall:\", cv_scores.mean())\n",
        "print(\"recall scores:\", cv_scores)\n",
        "print(\"Mean recall_lr:\", cv_scores.mean())\n",
        "print(\"Standard deviation_recall_lr:\", cv_scores.std())"
      ]
    },
    {
      "cell_type": "code",
      "execution_count": null,
      "metadata": {
        "id": "4_IbRksdTVuq"
      },
      "outputs": [],
      "source": [
        "cv_scores = cross_val_score(model_lr, x, y, cv=5, scoring='precision')\n",
        "print(\"Average Cross-Validation precision:\", cv_scores.mean())\n",
        "print(\"precision:\", cv_scores)\n",
        "print(\"Mean precision_lr:\", cv_scores.mean())\n",
        "print(\"Standard deviation_prec_lr:\", cv_scores.std())\n"
      ]
    },
    {
      "cell_type": "code",
      "execution_count": null,
      "metadata": {
        "id": "n6RXpb4DTVkZ"
      },
      "outputs": [],
      "source": [
        "cv_scores = cross_val_score(model_lr, x, y, cv=5, scoring='f1')\n",
        "print(\"Average Cross-Validation F1-score:\", cv_scores.mean())\n",
        "print(\"F1 scores:\", cv_scores)\n",
        "print(\"Mean F1-score_lr:\", cv_scores.mean())\n",
        "print(\"Standard deviation_lr_f1:\", cv_scores.std())\n"
      ]
    },
    {
      "cell_type": "code",
      "execution_count": null,
      "metadata": {
        "id": "0gSKa1dCXx4Z"
      },
      "outputs": [],
      "source": [
        "\n",
        "\n",
        "cv_scores = cross_val_score(model_lr, x, y, cv=5, scoring='roc_auc')\n",
        "print(\"Average Cross-Validation ROC-AUC:\", cv_scores.mean())\n",
        "print(\"ROC-AUC scores:\", cv_scores)\n",
        "print(\"Mean ROC-AUC_lr:\", cv_scores.mean())\n",
        "print(\"Standard deviation_lr_roc:\", cv_scores.std())\n"
      ]
    },
    {
      "cell_type": "code",
      "execution_count": null,
      "metadata": {
        "id": "SsPwtDt6s2gJ"
      },
      "outputs": [],
      "source": [
        "v_scores = cross_val_score(model_lr, x, y, cv=5, scoring='neg_log_loss')\n",
        "\n",
        "# Convert negative log-loss to positive log-loss\n",
        "positive_log_loss = -cv_scores\n",
        "\n",
        "# Print results\n",
        "print(\"Cross-Validation Log-Loss (positive):\", positive_log_loss)\n",
        "print(\"Average Log-Loss_lr:\", positive_log_loss.mean())\n",
        "print(\"Standard Deviation of Log-Loss_lr:\", positive_log_loss.std())"
      ]
    },
    {
      "cell_type": "code",
      "execution_count": null,
      "metadata": {
        "id": "Q7eiRCqVs2Wa"
      },
      "outputs": [],
      "source": [
        "cv_scores = cross_val_score(model_lr, x, y, cv=5, scoring='neg_mean_squared_error')\n",
        "\n",
        "# Convert negative MSE to positive MSE\n",
        "positive_mse = -cv_scores\n",
        "\n",
        "# Print results\n",
        "print(\"Cross-Validation MSE (positive):\", positive_mse)\n",
        "print(\"Average MSE_lr:\", positive_mse.mean())\n",
        "print(\"Standard Deviation of MSE_lr:\", positive_mse.std())"
      ]
    },
    {
      "cell_type": "code",
      "execution_count": null,
      "metadata": {
        "id": "esIAXPKykNG_"
      },
      "outputs": [],
      "source": [
        "from sklearn.metrics import confusion_matrix,accuracy_score,recall_score,mean_squared_error,precision_score,roc_auc_score,f1_score"
      ]
    },
    {
      "cell_type": "code",
      "execution_count": null,
      "metadata": {
        "id": "JK1DUQSzkM-z"
      },
      "outputs": [],
      "source": [
        "confusion_matrix(y_test,y_pred_test_lr)"
      ]
    },
    {
      "cell_type": "code",
      "execution_count": null,
      "metadata": {
        "id": "FY5XEOyPkM0H"
      },
      "outputs": [],
      "source": [
        "confusion_matrix(y_train,y_pred_train_lr)"
      ]
    },
    {
      "cell_type": "code",
      "execution_count": null,
      "metadata": {
        "id": "YM43FLyjh7OF"
      },
      "outputs": [],
      "source": [
        "acc_train_lr=accuracy_score(y_train,y_pred_train_lr)\n",
        "acc_test_lr=accuracy_score(y_test,y_pred_test_lr)\n",
        "acc_train_lr,acc_test_lr"
      ]
    },
    {
      "cell_type": "code",
      "execution_count": null,
      "metadata": {
        "id": "7W5JUIh6hkny"
      },
      "outputs": [],
      "source": [
        "rec_train_lr=recall_score(y_train,y_pred_train_lr)\n",
        "rec_test_lr=recall_score(y_test,y_pred_test_lr)\n",
        "rec_train_lr,rec_test_lr"
      ]
    },
    {
      "cell_type": "code",
      "execution_count": null,
      "metadata": {
        "id": "JYzyVo7PhkhQ"
      },
      "outputs": [],
      "source": [
        "mse_train_lr=mean_squared_error(y_train,y_pred_train_lr)\n",
        "mse_test_lr=mean_squared_error(y_test,y_pred_test_lr)\n",
        "mse_train_lr,mse_test_lr"
      ]
    },
    {
      "cell_type": "code",
      "execution_count": null,
      "metadata": {
        "id": "W-U9qg6dhkan"
      },
      "outputs": [],
      "source": [
        "prec_train_dt=precision_score(y_train,y_pred_train_dt)\n",
        "prec_test_dt=precision_score(y_test,y_pred_test_dt)\n",
        "prec_train_dt,prec_test_dt"
      ]
    },
    {
      "cell_type": "code",
      "execution_count": null,
      "metadata": {
        "id": "rcE2kOGChkT_"
      },
      "outputs": [],
      "source": [
        "roc_au_train_lr=roc_auc_score(y_train,y_pred_train_lr)\n",
        "roc_au_test_lr=roc_auc_score(y_test,y_pred_test_lr)\n",
        "roc_au_train_lr,roc_au_test_lr"
      ]
    },
    {
      "cell_type": "code",
      "execution_count": null,
      "metadata": {
        "id": "NUUGfYu2gOQw"
      },
      "outputs": [],
      "source": [
        "f1_train_lr = f1_score(y_train, y_pred_train_lr)\n",
        "f1_test_lr = f1_score(y_test, y_pred_test_lr)\n",
        "f1_train_lr,f1_test_lr"
      ]
    },
    {
      "cell_type": "markdown",
      "metadata": {
        "id": "JBLTCXv6kpS0"
      },
      "source": [
        "# ANN"
      ]
    },
    {
      "cell_type": "code",
      "execution_count": null,
      "metadata": {
        "id": "0UVWT_TN2r1G"
      },
      "outputs": [],
      "source": [
        "from sklearn.neural_network import MLPClassifier\n",
        "model_ann=MLPClassifier(activation='logistic', hidden_layer_sizes=(50, 50),learning_rate_init=0.1, max_iter=150, solver='sgd')\n",
        "model_ann.fit(x_train,y_train)"
      ]
    },
    {
      "cell_type": "code",
      "execution_count": null,
      "metadata": {
        "id": "9gi1ciiOlC_j"
      },
      "outputs": [],
      "source": [
        "y_pred_train_ann=model_ann.predict(x_train)\n",
        "y_pred_test_ann=model_ann.predict(x_test)"
      ]
    },
    {
      "cell_type": "code",
      "execution_count": null,
      "metadata": {
        "id": "0IPUCsSllC3X"
      },
      "outputs": [],
      "source": [
        "cv_scores = cross_val_score(model_ann, x, y, cv=5, scoring='accuracy')\n",
        "print(\"Average Cross-Validation Accuracy:\", cv_scores.mean())\n",
        "print(\"Accuracy scores:\", cv_scores)\n",
        "print(\"Mean accuracy_ann:\", cv_scores.mean())\n",
        "print(\"Standard deviation_ann_accu:\", cv_scores.std())"
      ]
    },
    {
      "cell_type": "code",
      "execution_count": null,
      "metadata": {
        "id": "-LMRURaJUrzo"
      },
      "outputs": [],
      "source": [
        "cv_scores = cross_val_score(model_ann, x, y, cv=5, scoring='recall')\n",
        "print(\"Average Cross-Validation recall:\", cv_scores.mean())\n",
        "print(\"recall scores:\", cv_scores)\n",
        "print(\"Mean recall_ann:\", cv_scores.mean())\n",
        "print(\"Standard deviation_ann_recall:\", cv_scores.std())"
      ]
    },
    {
      "cell_type": "code",
      "execution_count": null,
      "metadata": {
        "id": "WT4p35_GTZMa"
      },
      "outputs": [],
      "source": [
        "cv_scores = cross_val_score(model_ann, x, y, cv=5, scoring='precision')\n",
        "print(\"Average Cross-Validation precision:\", cv_scores.mean())\n",
        "print(\"precision:\", cv_scores)\n",
        "print(\"Mean precision_ann:\", cv_scores.mean())\n",
        "print(\"Standard deviation_pre_ann:\", cv_scores.std())\n"
      ]
    },
    {
      "cell_type": "code",
      "execution_count": null,
      "metadata": {
        "id": "sQr0mJr9TZBz"
      },
      "outputs": [],
      "source": [
        "cv_scores = cross_val_score(model_ann, x, y, cv=5, scoring='f1')\n",
        "print(\"Average Cross-Validation F1-score:\", cv_scores.mean())\n",
        "print(\"F1 scores:\", cv_scores)\n",
        "print(\"Mean F1-score_ann:\", cv_scores.mean())\n",
        "print(\"Standard deviation_ann_f1:\", cv_scores.std())\n"
      ]
    },
    {
      "cell_type": "code",
      "execution_count": null,
      "metadata": {
        "id": "D7IzooWUX4o6"
      },
      "outputs": [],
      "source": [
        "\n",
        "\n",
        "cv_scores = cross_val_score(model_ann, x, y, cv=5, scoring='roc_auc')\n",
        "print(\"Average Cross-Validation ROC-AUC:\", cv_scores.mean())\n",
        "print(\"ROC-AUC scores:\", cv_scores)\n",
        "print(\"Mean ROC-AUC_ann:\", cv_scores.mean())\n",
        "print(\"Standard deviation_ann_roc:\", cv_scores.std())\n"
      ]
    },
    {
      "cell_type": "code",
      "execution_count": null,
      "metadata": {
        "id": "G0A-n96Rs550"
      },
      "outputs": [],
      "source": [
        "v_scores = cross_val_score(model_ann, x, y, cv=5, scoring='neg_log_loss')\n",
        "\n",
        "# Convert negative log-loss to positive log-loss\n",
        "positive_log_loss = -cv_scores\n",
        "\n",
        "# Print results\n",
        "print(\"Cross-Validation Log-Loss (positive):\", positive_log_loss)\n",
        "print(\"Average Log-Loss_ann:\", positive_log_loss.mean())\n",
        "print(\"Standard Deviation of Log-Loss_ann:\", positive_log_loss.std())"
      ]
    },
    {
      "cell_type": "code",
      "execution_count": null,
      "metadata": {
        "id": "JfSwflzrs6c6"
      },
      "outputs": [],
      "source": [
        "cv_scores = cross_val_score(model_ann, x, y, cv=5, scoring='neg_mean_squared_error')\n",
        "\n",
        "# Convert negative MSE to positive MSE\n",
        "positive_mse = -cv_scores\n",
        "\n",
        "# Print results\n",
        "print(\"Cross-Validation MSE (positive):\", positive_mse)\n",
        "print(\"Average MSE_ann:\", positive_mse.mean())\n",
        "print(\"Standard Deviation of MSE_ann:\", positive_mse.std())"
      ]
    },
    {
      "cell_type": "code",
      "execution_count": null,
      "metadata": {
        "id": "V3_KjrpHlCla"
      },
      "outputs": [],
      "source": [
        "from sklearn.metrics import confusion_matrix,accuracy_score,recall_score,mean_squared_error,precision_score,roc_auc_score,f1_score"
      ]
    },
    {
      "cell_type": "code",
      "execution_count": null,
      "metadata": {
        "id": "x68fPVYTk0vE"
      },
      "outputs": [],
      "source": [
        "confusion_matrix(y_train,y_pred_train_ann)"
      ]
    },
    {
      "cell_type": "code",
      "execution_count": null,
      "metadata": {
        "id": "GVnw74Czk0eU"
      },
      "outputs": [],
      "source": [
        "confusion_matrix(y_test,y_pred_test_ann)"
      ]
    },
    {
      "cell_type": "code",
      "execution_count": null,
      "metadata": {
        "id": "zyep6Xguk0V6"
      },
      "outputs": [],
      "source": [
        "acc_train_ann=accuracy_score(y_train,y_pred_train_ann)\n",
        "acc_test_ann=accuracy_score(y_test,y_pred_test_ann)\n",
        "acc_train_ann,acc_test_ann"
      ]
    },
    {
      "cell_type": "code",
      "execution_count": null,
      "metadata": {
        "id": "boep1CXykv7h"
      },
      "outputs": [],
      "source": [
        "rec_train_ann=recall_score(y_train,y_pred_train_ann)\n",
        "rec_test_ann=recall_score(y_test,y_pred_test_ann)\n",
        "rec_train_ann,rec_test_ann"
      ]
    },
    {
      "cell_type": "code",
      "execution_count": null,
      "metadata": {
        "id": "eDtQdw5VkqV3"
      },
      "outputs": [],
      "source": [
        "mse_train_ann=mean_squared_error(y_train,y_pred_train_ann)\n",
        "mse_test_ann=mean_squared_error(y_test,y_pred_test_ann)\n",
        "mse_train_ann,mse_test_ann"
      ]
    },
    {
      "cell_type": "code",
      "execution_count": null,
      "metadata": {
        "id": "6DhOj-GGksEB"
      },
      "outputs": [],
      "source": [
        "prec_train_ann=precision_score(y_train,y_pred_train_ann)\n",
        "prec_test_ann=precision_score(y_test,y_pred_test_ann)\n",
        "prec_train_ann,prec_test_ann"
      ]
    },
    {
      "cell_type": "code",
      "execution_count": null,
      "metadata": {
        "id": "MTk6rhtPkr7h"
      },
      "outputs": [],
      "source": [
        "roc_au_train_ann=roc_auc_score(y_train,y_pred_train_ann)\n",
        "roc_au_test_ann=roc_auc_score(y_test,y_pred_test_ann)\n",
        "roc_au_train_ann,roc_au_test_ann"
      ]
    },
    {
      "cell_type": "code",
      "execution_count": null,
      "metadata": {
        "id": "KVDsBLg-gTQk"
      },
      "outputs": [],
      "source": [
        "f1_train_ann = f1_score(y_train, y_pred_train_ann)\n",
        "f1_test_ann = f1_score(y_test, y_pred_test_ann)\n",
        "f1_train_ann,f1_test_ann"
      ]
    },
    {
      "cell_type": "code",
      "source": [],
      "metadata": {
        "id": "PdN2LVjZmJpU"
      },
      "execution_count": null,
      "outputs": []
    },
    {
      "cell_type": "code",
      "source": [],
      "metadata": {
        "id": "NSO_M3Cbm-tb"
      },
      "execution_count": null,
      "outputs": []
    },
    {
      "cell_type": "code",
      "source": [
        "# @title Default title text\n",
        "import pandas as pd\n",
        "\n",
        "# Example metrics (replace these variables with your actual calculated metrics)\n",
        "Mean_accuracy_rf = 0.8272058823529411  # Accuracy for Random Forest\n",
        "Mean_recall_rf = 0.75                 # Recall for Random Forest\n",
        "Mean_precision_rf = 0.8257142857142858  # Precision for Random Forest\n",
        "Mean_ROC_AUC_rf = 0.8965277777777778   # ROC-AUC for Random Forest\n",
        "Mean_F1_score_rf = 0.8250877192982455  # F1-Score for Random Forest\n",
        "Average_MSE_rf = 0.17279411764705882   # MSE for Random Forest\n",
        "\n",
        "# Naive Bayes\n",
        "Mean_accuracy_NB = 0.7397058823529411\n",
        "Mean_recall_NB = 0.825\n",
        "Mean_precision_NB = 0.7312121212121212\n",
        "Mean_ROC_AUC_NB = 0.811111111111111\n",
        "Mean_F1_score_NB = 0.7578137651821862\n",
        "Average_MSE_NB = 0.26029411764705884\n",
        "\n",
        "# K-Nearest Neighbors\n",
        "Mean_accuracy_knn = 0.6301470588235294\n",
        "Mean_recall_knn = 0.7\n",
        "Mean_precision_knn = 0.62222222222221\n",
        "Mean_ROC_AUC_knn = 0.6760416666666667\n",
        "Mean_F1_score_knn = 0.6492623716153129\n",
        "Average_MSE_knn = 0.36985294117647055\n",
        "\n",
        "# Decision Tree\n",
        "Mean_accuracy_dt = 0.6801470588235294\n",
        "Mean_recall_dt = 0.775\n",
        "Mean_precision_dt = 0.787142857142858\n",
        "Mean_ROC_AUC_dt = 0.8071180555555555\n",
        "Mean_F1_score_dt = 0.6589165220744169\n",
        "Average_MSE_dt = 0.24558823529411766\n",
        "\n",
        "# Support Vector Machine\n",
        "Mean_accuracy_svm = 0.752941176705882\n",
        "Mean_recall_svm = 0.775\n",
        "Mean_precision_svm = 0.7528571428571429\n",
        "Mean_ROC_AUC_svm = 0.82638888888889\n",
        "Mean_F1_score_svm = 0.75888888888889\n",
        "Average_MSE_svm = 0.24\n",
        "\n",
        "# Logistic Regression\n",
        "Mean_accuracy_lr = 0.7529411764705882\n",
        "Mean_recall_lr = 0.775\n",
        "Mean_precision_lr = 0.7466666666666666\n",
        "Mean_ROC_AUC_lr = 0.8131944444444444\n",
        "Mean_F1_score_lr = 0.7487161531279178\n",
        "Average_MSE_lr = 0.2720588235294118\n",
        "\n",
        "# Artificial Neural Network\n",
        "Mean_accuracy_ann = 0.505882352941176\n",
        "Mean_recall_ann = 0.2\n",
        "Mean_precision_ann = 0.09411764705882353\n",
        "Mean_ROC_AUC_ann = 0.526736111111111\n",
        "Mean_F1_score_ann = 0.0\n",
        "Average_MSE_ann = 0.5058823529411764\n",
        "\n",
        "# Create a dictionary to store the metrics for all algorithms\n",
        "results = {\n",
        "    \"Algorithm\": [\n",
        "        \"Random Forest\", \"Naive Bayes\", \"K-Nearest Neighbors\", \"Decision Tree\",\n",
        "        \"Support Vector Machine\", \"Logistic Regression\", \"Artificial Neural Network\"\n",
        "    ],\n",
        "    \"Accuracy\": [\n",
        "        Mean_accuracy_rf, Mean_accuracy_NB, Mean_accuracy_knn, Mean_accuracy_dt,\n",
        "        Mean_accuracy_svm, Mean_accuracy_lr, Mean_accuracy_ann\n",
        "    ],\n",
        "    \"Recall\": [\n",
        "        Mean_recall_rf, Mean_recall_NB, Mean_recall_knn, Mean_recall_dt,\n",
        "        Mean_recall_svm, Mean_recall_lr, Mean_recall_ann\n",
        "    ],\n",
        "    \"Precision\": [\n",
        "        Mean_precision_rf, Mean_precision_NB, Mean_precision_knn, Mean_precision_dt,\n",
        "        Mean_precision_svm, Mean_precision_lr, Mean_precision_ann\n",
        "    ],\n",
        "    \"Average MSE\": [\n",
        "        Average_MSE_rf, Average_MSE_NB, Average_MSE_knn, Average_MSE_dt,\n",
        "        Average_MSE_svm, Average_MSE_lr, Average_MSE_ann\n",
        "    ],\n",
        "    \"F1-Score\": [\n",
        "        Mean_F1_score_rf, Mean_F1_score_NB, Mean_F1_score_knn, Mean_F1_score_dt,\n",
        "        Mean_F1_score_svm, Mean_F1_score_lr, Mean_F1_score_ann\n",
        "    ],\n",
        "    \"ROC-AUC Score\": [\n",
        "        Mean_ROC_AUC_rf, Mean_ROC_AUC_NB, Mean_ROC_AUC_knn, Mean_ROC_AUC_dt,\n",
        "        Mean_ROC_AUC_svm, Mean_ROC_AUC_lr, Mean_ROC_AUC_ann\n",
        "    ]\n",
        "}\n",
        "\n",
        "# Convert results to a DataFrame\n",
        "results_df = pd.DataFrame(results)\n",
        "\n",
        "# Save the DataFrame to a CSV file\n",
        "results_df.to_csv(\"algorithm_metrics_crossvalidation_updated.csv\", index=False)\n",
        "\n",
        "print(\"Results saved to 'algorithm_metrics_crossvalidation_updated.csv'.\")\n"
      ],
      "metadata": {
        "id": "r60-Ugq9Z0Pq"
      },
      "execution_count": null,
      "outputs": []
    }
  ],
  "metadata": {
    "accelerator": "GPU",
    "colab": {
      "gpuType": "T4",
      "provenance": []
    },
    "kernelspec": {
      "display_name": "Python 3",
      "name": "python3"
    },
    "language_info": {
      "name": "python"
    }
  },
  "nbformat": 4,
  "nbformat_minor": 0
}